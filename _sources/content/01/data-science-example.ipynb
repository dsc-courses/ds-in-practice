{
 "cells": [
  {
   "cell_type": "code",
   "execution_count": 1,
   "metadata": {
    "tags": [
     "remove_cell"
    ]
   },
   "outputs": [],
   "source": [
    "%matplotlib inline\n",
    "import pandas as pd\n",
    "import numpy as np\n",
    "import matplotlib.pyplot as plt\n",
    "import os\n",
    "\n",
    "pd.set_option('display.max_rows', 7)"
   ]
  },
  {
   "cell_type": "markdown",
   "metadata": {},
   "source": [
    "# An Example Investigation\n",
    "\n",
    "This section goes through a data-driven investigation that illustrates common techniques in the Data Scientist's toolkit: assessing the dataset, formulating a question, joining new data to improve an answer, assessing the applicability of a potential answer beyond the dataset, and due diligence on the validity of each step in the reasoning.\n",
    "\n",
    "The code in this section is hidden to keep the focus on the data and reasoning. The techniques (and code) used in this section are covered in Part I of this book.\n",
    "\n",
    "## San Diego City Salaries\n",
    "\n",
    "The dataset at hand includes a list of all San Diego city employee salaries for the year of 2017. This includes employee names and job titles, as well as the components of their total pay during that year."
   ]
  },
  {
   "cell_type": "markdown",
   "metadata": {
    "slideshow": {
     "slide_type": "-"
    }
   },
   "source": [
    "### SD Employee Salaries: background research\n",
    "\n",
    "Why try to understand this dataset?\n",
    "- Such a profile could inform 3rd party workplace programs.\n",
    "- Journalists might search for salary anomalies.\n",
    "- Auditors may want actionable advice on fair employment practices.\n",
    "- Are the earning of these employees fair?\n",
    "\n",
    "Before formulating goals and questions, an initial look is useful understand the data by building a profile of San Diego city employees."
   ]
  },
  {
   "cell_type": "markdown",
   "metadata": {},
   "source": [
    "### An initial look: what to keep in mind\n",
    "\n",
    "The data, along with a brief description, is available from [Transparent California](https://transparentcalifornia.com/salaries/san-diego/) salary website.\n",
    "\n",
    "Some questions to keep in mind while looking at the dataset:\n",
    "- What columns are required for potential questions that might be asked? \n",
    "- Which columns have the relevant information?\n",
    "- Does that information likely reflect real-life salaries or are there mistakes in the data?\n",
    "- Are the data in the table self-consistent?"
   ]
  },
  {
   "cell_type": "code",
   "execution_count": 3,
   "metadata": {
    "scrolled": true,
    "tags": [
     "hide_input"
    ]
   },
   "outputs": [
    {
     "data": {
      "text/html": [
       "<div>\n",
       "<style scoped>\n",
       "    .dataframe tbody tr th:only-of-type {\n",
       "        vertical-align: middle;\n",
       "    }\n",
       "\n",
       "    .dataframe tbody tr th {\n",
       "        vertical-align: top;\n",
       "    }\n",
       "\n",
       "    .dataframe thead th {\n",
       "        text-align: right;\n",
       "    }\n",
       "</style>\n",
       "<table border=\"1\" class=\"dataframe\">\n",
       "  <thead>\n",
       "    <tr style=\"text-align: right;\">\n",
       "      <th></th>\n",
       "      <th>Employee Name</th>\n",
       "      <th>Job Title</th>\n",
       "      <th>Base Pay</th>\n",
       "      <th>Overtime Pay</th>\n",
       "      <th>Other Pay</th>\n",
       "      <th>Benefits</th>\n",
       "      <th>Total Pay</th>\n",
       "      <th>Total Pay &amp; Benefits</th>\n",
       "      <th>Year</th>\n",
       "      <th>Notes</th>\n",
       "      <th>Agency</th>\n",
       "      <th>Status</th>\n",
       "    </tr>\n",
       "  </thead>\n",
       "  <tbody>\n",
       "    <tr>\n",
       "      <th>0</th>\n",
       "      <td>David Xxxx</td>\n",
       "      <td>Fire Battalion Chief</td>\n",
       "      <td>81917.0</td>\n",
       "      <td>172590.0</td>\n",
       "      <td>68870.00</td>\n",
       "      <td>5194.0</td>\n",
       "      <td>323377.0</td>\n",
       "      <td>328571.0</td>\n",
       "      <td>2017</td>\n",
       "      <td>NaN</td>\n",
       "      <td>San Diego</td>\n",
       "      <td>FT</td>\n",
       "    </tr>\n",
       "    <tr>\n",
       "      <th>1</th>\n",
       "      <td>Glen Xxxx</td>\n",
       "      <td>Fire Captain</td>\n",
       "      <td>85904.0</td>\n",
       "      <td>120682.0</td>\n",
       "      <td>99408.00</td>\n",
       "      <td>10107.0</td>\n",
       "      <td>305994.0</td>\n",
       "      <td>316101.0</td>\n",
       "      <td>2017</td>\n",
       "      <td>NaN</td>\n",
       "      <td>San Diego</td>\n",
       "      <td>FT</td>\n",
       "    </tr>\n",
       "    <tr>\n",
       "      <th>2</th>\n",
       "      <td>Scott Xxxx</td>\n",
       "      <td>Chief Operating Officer</td>\n",
       "      <td>255000.0</td>\n",
       "      <td>0.0</td>\n",
       "      <td>31164.00</td>\n",
       "      <td>22688.0</td>\n",
       "      <td>286164.0</td>\n",
       "      <td>308852.0</td>\n",
       "      <td>2017</td>\n",
       "      <td>NaN</td>\n",
       "      <td>San Diego</td>\n",
       "      <td>FT</td>\n",
       "    </tr>\n",
       "    <tr>\n",
       "      <th>...</th>\n",
       "      <td>...</td>\n",
       "      <td>...</td>\n",
       "      <td>...</td>\n",
       "      <td>...</td>\n",
       "      <td>...</td>\n",
       "      <td>...</td>\n",
       "      <td>...</td>\n",
       "      <td>...</td>\n",
       "      <td>...</td>\n",
       "      <td>...</td>\n",
       "      <td>...</td>\n",
       "      <td>...</td>\n",
       "    </tr>\n",
       "    <tr>\n",
       "      <th>12490</th>\n",
       "      <td>Stephen Xxxx</td>\n",
       "      <td>Council Rep 2 A</td>\n",
       "      <td>0.0</td>\n",
       "      <td>0.0</td>\n",
       "      <td>8.00</td>\n",
       "      <td>0.0</td>\n",
       "      <td>8.0</td>\n",
       "      <td>8.0</td>\n",
       "      <td>2017</td>\n",
       "      <td>NaN</td>\n",
       "      <td>San Diego</td>\n",
       "      <td>PT</td>\n",
       "    </tr>\n",
       "    <tr>\n",
       "      <th>12491</th>\n",
       "      <td>Tania Xxxx</td>\n",
       "      <td>Sr Mgmt Anlyst</td>\n",
       "      <td>0.0</td>\n",
       "      <td>0.0</td>\n",
       "      <td>8.00</td>\n",
       "      <td>0.0</td>\n",
       "      <td>8.0</td>\n",
       "      <td>8.0</td>\n",
       "      <td>2017</td>\n",
       "      <td>NaN</td>\n",
       "      <td>San Diego</td>\n",
       "      <td>PT</td>\n",
       "    </tr>\n",
       "    <tr>\n",
       "      <th>12492</th>\n",
       "      <td>Brian Xxxx</td>\n",
       "      <td>Police Officer</td>\n",
       "      <td>0.0</td>\n",
       "      <td>0.0</td>\n",
       "      <td>3.00</td>\n",
       "      <td>0.0</td>\n",
       "      <td>3.0</td>\n",
       "      <td>3.0</td>\n",
       "      <td>2017</td>\n",
       "      <td>NaN</td>\n",
       "      <td>San Diego</td>\n",
       "      <td>PT</td>\n",
       "    </tr>\n",
       "  </tbody>\n",
       "</table>\n",
       "<p>12493 rows × 12 columns</p>\n",
       "</div>"
      ],
      "text/plain": [
       "      Employee Name                Job Title  Base Pay  Overtime Pay  \\\n",
       "0        David Xxxx     Fire Battalion Chief   81917.0      172590.0   \n",
       "1         Glen Xxxx             Fire Captain   85904.0      120682.0   \n",
       "2        Scott Xxxx  Chief Operating Officer  255000.0           0.0   \n",
       "...             ...                      ...       ...           ...   \n",
       "12490  Stephen Xxxx          Council Rep 2 A       0.0           0.0   \n",
       "12491    Tania Xxxx           Sr Mgmt Anlyst       0.0           0.0   \n",
       "12492    Brian Xxxx           Police Officer       0.0           0.0   \n",
       "\n",
       "      Other Pay  Benefits  Total Pay  Total Pay & Benefits  Year  Notes  \\\n",
       "0      68870.00    5194.0   323377.0              328571.0  2017    NaN   \n",
       "1      99408.00   10107.0   305994.0              316101.0  2017    NaN   \n",
       "2      31164.00   22688.0   286164.0              308852.0  2017    NaN   \n",
       "...         ...       ...        ...                   ...   ...    ...   \n",
       "12490      8.00       0.0        8.0                   8.0  2017    NaN   \n",
       "12491      8.00       0.0        8.0                   8.0  2017    NaN   \n",
       "12492      3.00       0.0        3.0                   3.0  2017    NaN   \n",
       "\n",
       "          Agency Status  \n",
       "0      San Diego     FT  \n",
       "1      San Diego     FT  \n",
       "2      San Diego     FT  \n",
       "...          ...    ...  \n",
       "12490  San Diego     PT  \n",
       "12491  San Diego     PT  \n",
       "12492  San Diego     PT  \n",
       "\n",
       "[12493 rows x 12 columns]"
      ]
     },
     "execution_count": 3,
     "metadata": {},
     "output_type": "execute_result"
    }
   ],
   "source": [
    "salary_path = os.path.join('data', 'san-diego-2017.csv')\n",
    "salaries = pd.read_csv(salary_path)\n",
    "salaries.reset_index(drop=True)"
   ]
  },
  {
   "cell_type": "markdown",
   "metadata": {
    "slideshow": {
     "slide_type": "-"
    }
   },
   "source": [
    "### Aside on privacy and ethics\n",
    "\n",
    "This dataset contains the full names of city employees; these names correspond to *real* people. Such information is called *PII*, which stands for personally identifiable information. In many cases it is illegal to improperly disclose PII. In this case public employees are public figures and it's not against the law to disclose their names.\n",
    "\n",
    "However, there is a difference between what is *legal* and what is *ethical*. In this case, the difference between 'public record' and 'searchable record' may have very different impact on someone's life. Public record exists to give people who want to know a small amount of relevant information the ability to do so. Collecting all public records for a single person in one place creates an intimate picture of that person's life that may easily cross into invasion of privacy.\n",
    "\n",
    "The takeaway: there are people behind each data point, and those people's data should not be needlessly propagated! In this case, the last names of the employees have been blanked out, even though it's not legally necessary to do so."
   ]
  },
  {
   "cell_type": "markdown",
   "metadata": {
    "slideshow": {
     "slide_type": "slide"
    }
   },
   "source": [
    "### Basic description of employee pay\n",
    "\n",
    "The table below contains a basic of description of employee pay. What does typical pay look like? Are there questions about data reliability?"
   ]
  },
  {
   "cell_type": "code",
   "execution_count": 77,
   "metadata": {
    "tags": [
     "hide_input"
    ]
   },
   "outputs": [
    {
     "data": {
      "text/html": [
       "<div>\n",
       "<style scoped>\n",
       "    .dataframe tbody tr th:only-of-type {\n",
       "        vertical-align: middle;\n",
       "    }\n",
       "\n",
       "    .dataframe tbody tr th {\n",
       "        vertical-align: top;\n",
       "    }\n",
       "\n",
       "    .dataframe thead th {\n",
       "        text-align: right;\n",
       "    }\n",
       "</style>\n",
       "<table border=\"1\" class=\"dataframe\">\n",
       "  <thead>\n",
       "    <tr style=\"text-align: right;\">\n",
       "      <th></th>\n",
       "      <th>count</th>\n",
       "      <th>mean</th>\n",
       "      <th>std</th>\n",
       "      <th>min</th>\n",
       "      <th>25%</th>\n",
       "      <th>50%</th>\n",
       "      <th>75%</th>\n",
       "      <th>max</th>\n",
       "    </tr>\n",
       "  </thead>\n",
       "  <tbody>\n",
       "    <tr>\n",
       "      <th>Base Pay</th>\n",
       "      <td>12493.0</td>\n",
       "      <td>48843.853918</td>\n",
       "      <td>29377.449188</td>\n",
       "      <td>0.0</td>\n",
       "      <td>28888.0</td>\n",
       "      <td>49254.0</td>\n",
       "      <td>68952.0</td>\n",
       "      <td>255000.0</td>\n",
       "    </tr>\n",
       "    <tr>\n",
       "      <th>Overtime Pay</th>\n",
       "      <td>12493.0</td>\n",
       "      <td>6573.031858</td>\n",
       "      <td>15308.455700</td>\n",
       "      <td>-623.0</td>\n",
       "      <td>0.0</td>\n",
       "      <td>393.0</td>\n",
       "      <td>5408.0</td>\n",
       "      <td>196978.0</td>\n",
       "    </tr>\n",
       "    <tr>\n",
       "      <th>Benefits</th>\n",
       "      <td>12493.0</td>\n",
       "      <td>8667.754983</td>\n",
       "      <td>6456.089561</td>\n",
       "      <td>-29.0</td>\n",
       "      <td>2785.0</td>\n",
       "      <td>8420.0</td>\n",
       "      <td>13485.0</td>\n",
       "      <td>36030.0</td>\n",
       "    </tr>\n",
       "    <tr>\n",
       "      <th>Total Pay</th>\n",
       "      <td>12493.0</td>\n",
       "      <td>64984.971024</td>\n",
       "      <td>41812.990357</td>\n",
       "      <td>3.0</td>\n",
       "      <td>36430.0</td>\n",
       "      <td>61452.0</td>\n",
       "      <td>91400.0</td>\n",
       "      <td>323377.0</td>\n",
       "    </tr>\n",
       "    <tr>\n",
       "      <th>Total Pay &amp; Benefits</th>\n",
       "      <td>12493.0</td>\n",
       "      <td>73652.726007</td>\n",
       "      <td>45761.462637</td>\n",
       "      <td>3.0</td>\n",
       "      <td>44788.0</td>\n",
       "      <td>71264.0</td>\n",
       "      <td>103131.0</td>\n",
       "      <td>328571.0</td>\n",
       "    </tr>\n",
       "    <tr>\n",
       "      <th>Year</th>\n",
       "      <td>12493.0</td>\n",
       "      <td>2017.000000</td>\n",
       "      <td>0.000000</td>\n",
       "      <td>2017.0</td>\n",
       "      <td>2017.0</td>\n",
       "      <td>2017.0</td>\n",
       "      <td>2017.0</td>\n",
       "      <td>2017.0</td>\n",
       "    </tr>\n",
       "    <tr>\n",
       "      <th>Notes</th>\n",
       "      <td>0.0</td>\n",
       "      <td>NaN</td>\n",
       "      <td>NaN</td>\n",
       "      <td>NaN</td>\n",
       "      <td>NaN</td>\n",
       "      <td>NaN</td>\n",
       "      <td>NaN</td>\n",
       "      <td>NaN</td>\n",
       "    </tr>\n",
       "  </tbody>\n",
       "</table>\n",
       "</div>"
      ],
      "text/plain": [
       "                        count          mean           std     min      25%  \\\n",
       "Base Pay              12493.0  48843.853918  29377.449188     0.0  28888.0   \n",
       "Overtime Pay          12493.0   6573.031858  15308.455700  -623.0      0.0   \n",
       "Benefits              12493.0   8667.754983   6456.089561   -29.0   2785.0   \n",
       "Total Pay             12493.0  64984.971024  41812.990357     3.0  36430.0   \n",
       "Total Pay & Benefits  12493.0  73652.726007  45761.462637     3.0  44788.0   \n",
       "Year                  12493.0   2017.000000      0.000000  2017.0   2017.0   \n",
       "Notes                     0.0           NaN           NaN     NaN      NaN   \n",
       "\n",
       "                          50%       75%       max  \n",
       "Base Pay              49254.0   68952.0  255000.0  \n",
       "Overtime Pay            393.0    5408.0  196978.0  \n",
       "Benefits               8420.0   13485.0   36030.0  \n",
       "Total Pay             61452.0   91400.0  323377.0  \n",
       "Total Pay & Benefits  71264.0  103131.0  328571.0  \n",
       "Year                   2017.0    2017.0    2017.0  \n",
       "Notes                     NaN       NaN       NaN  "
      ]
     },
     "execution_count": 77,
     "metadata": {},
     "output_type": "execute_result"
    }
   ],
   "source": [
    "salaries.describe().T"
   ]
  },
  {
   "cell_type": "markdown",
   "metadata": {
    "slideshow": {
     "slide_type": "notes"
    }
   },
   "source": [
    "A few of the questions raised by this table of statistics are:\n",
    "* What are the negative payments? Near zero salaries?\n",
    "* Where did the \"Other Pay\" column go?\n",
    "* Are the salaries in the 'max' column real?\n",
    "* This dataset only contains one year!\n",
    "\n",
    "These descriptive statistics hide a lot of information about the data. However, that over-simplification makes the dataset more understandable. These questions are a starting point for focusing a detailed investigation into the dataset and how well it represents the reality being analyzed."
   ]
  },
  {
   "cell_type": "markdown",
   "metadata": {
    "slideshow": {
     "slide_type": "slide"
    }
   },
   "source": [
    "### Empirical Distribution of Salaries\n",
    "\n",
    "As employee total pay is the primary attribute of focus, it makes sense to understand how it varies across the entire population of employees. Plotting the empirical distribution of salaries raises two observations:\n",
    "* The distribution is 'bimodal' and is likely comprised of two distributions.\n",
    "* The salaries have a skew to the right, which is typical for a quantity that can only be non-negative."
   ]
  },
  {
   "cell_type": "code",
   "execution_count": 78,
   "metadata": {
    "tags": [
     "hide_input"
    ]
   },
   "outputs": [
    {
     "data": {
      "image/png": "[encoded data removed]",
      "text/plain": [
       "<Figure size 432x288 with 1 Axes>"
      ]
     },
     "metadata": {
      "needs_background": "light"
     },
     "output_type": "display_data"
    }
   ],
   "source": [
    "salaries['Total Pay'].plot(kind='hist', bins=50, density=True, title='distribution of Total Salaries');"
   ]
  },
  {
   "cell_type": "markdown",
   "metadata": {
    "slideshow": {
     "slide_type": "slide"
    }
   },
   "source": [
    "A reasonable guess for the bimodal nature of the distribution of salaries is the employment status. One would expect salaries to vary significantly based on whether an employee works Part-time versus Full-time. Splitting the population up by job status reveals two distributions:\n",
    "* The part-time jobs tend to have lower salaries, closer to 0,\n",
    "* The full-time jobs tends to have salaries centered around 80,000 USD."
   ]
  },
  {
   "cell_type": "code",
   "execution_count": 79,
   "metadata": {
    "tags": [
     "hide_input"
    ]
   },
   "outputs": [
    {
     "data": {
      "image/png": "[encoded data removed]",
      "text/plain": [
       "<Figure size 432x288 with 1 Axes>"
      ]
     },
     "metadata": {
      "needs_background": "light"
     },
     "output_type": "display_data"
    }
   ],
   "source": [
    "bystatus = salaries.groupby('Status')\n",
    "bystatus['Total Pay'].plot(kind='kde', alpha=0.5, title='Salary by Full-time/Part-time')\n",
    "plt.legend(bystatus.groups);"
   ]
  },
  {
   "cell_type": "code",
   "execution_count": 4,
   "metadata": {
    "tags": [
     "hide_input"
    ]
   },
   "outputs": [],
   "source": [
    "salaries = salaries[['Employee Name', 'Job Title', 'Total Pay', 'Status']].copy()"
   ]
  },
  {
   "cell_type": "markdown",
   "metadata": {
    "slideshow": {
     "slide_type": "slide"
    }
   },
   "source": [
    "### Do women earn similar pay to their contemporaries?\n",
    "\n",
    "With a general assessment of the data finished, a more pointed questions about the data can be pursued. In this case: do employees of different genders have similar pay?\n",
    "\n",
    "However, this dataset doesn't contain information on the gender of employees. The dataset does have the first names of employees, which contains imperfect information about gender. A reasonable approach is to find a dataset that contains information about correspondences between names and gender. \n",
    "\n",
    "In this case, the Social Security Administration publishes a \"baby names\" dataset that does exactly this."
   ]
  },
  {
   "cell_type": "markdown",
   "metadata": {
    "slideshow": {
     "slide_type": "slide"
    }
   },
   "source": [
    "### SSA names dataset\n",
    "\n",
    "The Social Security Administration compiles a list of all names on social security applications in a given year, whether the applicant identified as Male or Female. This list can then be used to label the most likely gender of the employees using their first names."
   ]
  },
  {
   "cell_type": "code",
   "execution_count": 7,
   "metadata": {
    "tags": [
     "hide_input"
    ]
   },
   "outputs": [
    {
     "data": {
      "text/html": [
       "<div>\n",
       "<style scoped>\n",
       "    .dataframe tbody tr th:only-of-type {\n",
       "        vertical-align: middle;\n",
       "    }\n",
       "\n",
       "    .dataframe tbody tr th {\n",
       "        vertical-align: top;\n",
       "    }\n",
       "\n",
       "    .dataframe thead th {\n",
       "        text-align: right;\n",
       "    }\n",
       "</style>\n",
       "<table border=\"1\" class=\"dataframe\">\n",
       "  <thead>\n",
       "    <tr style=\"text-align: right;\">\n",
       "      <th></th>\n",
       "      <th>firstname</th>\n",
       "      <th>gender</th>\n",
       "      <th>count</th>\n",
       "      <th>year</th>\n",
       "    </tr>\n",
       "  </thead>\n",
       "  <tbody>\n",
       "    <tr>\n",
       "      <th>0</th>\n",
       "      <td>Emily</td>\n",
       "      <td>F</td>\n",
       "      <td>25956</td>\n",
       "      <td>2000</td>\n",
       "    </tr>\n",
       "    <tr>\n",
       "      <th>1</th>\n",
       "      <td>Hannah</td>\n",
       "      <td>F</td>\n",
       "      <td>23082</td>\n",
       "      <td>2000</td>\n",
       "    </tr>\n",
       "    <tr>\n",
       "      <th>2</th>\n",
       "      <td>Madison</td>\n",
       "      <td>F</td>\n",
       "      <td>19968</td>\n",
       "      <td>2000</td>\n",
       "    </tr>\n",
       "    <tr>\n",
       "      <th>3</th>\n",
       "      <td>Ashley</td>\n",
       "      <td>F</td>\n",
       "      <td>17997</td>\n",
       "      <td>2000</td>\n",
       "    </tr>\n",
       "    <tr>\n",
       "      <th>4</th>\n",
       "      <td>Sarah</td>\n",
       "      <td>F</td>\n",
       "      <td>17702</td>\n",
       "      <td>2000</td>\n",
       "    </tr>\n",
       "  </tbody>\n",
       "</table>\n",
       "</div>"
      ],
      "text/plain": [
       "  firstname gender  count  year\n",
       "0     Emily      F  25956  2000\n",
       "1    Hannah      F  23082  2000\n",
       "2   Madison      F  19968  2000\n",
       "3    Ashley      F  17997  2000\n",
       "4     Sarah      F  17702  2000"
      ]
     },
     "execution_count": 7,
     "metadata": {},
     "output_type": "execute_result"
    }
   ],
   "source": [
    "from glob import glob\n",
    "import os\n",
    "\n",
    "names_path = os.path.join('data', 'names.csv')\n",
    "names = pd.read_csv(names_path)\n",
    "names.head()"
   ]
  },
  {
   "cell_type": "markdown",
   "metadata": {
    "slideshow": {
     "slide_type": "slide"
    }
   },
   "source": [
    "### Basic check of `names`:\n",
    "\n",
    "There are a number of details to attend to in SSA dataset:\n",
    "* Many names identify to both genders (gender-neutral names).\n",
    "* Most names occur only a few times per year (most names are rare).\n",
    "* A few names make up most the applications.\n",
    "\n",
    "Notice, the name \"Madison\" is mostly identified as female, though there are consistently a few males with that name as well:"
   ]
  },
  {
   "cell_type": "code",
   "execution_count": 8,
   "metadata": {
    "scrolled": true,
    "tags": [
     "hide_input"
    ]
   },
   "outputs": [
    {
     "data": {
      "text/html": [
       "<div>\n",
       "<style scoped>\n",
       "    .dataframe tbody tr th:only-of-type {\n",
       "        vertical-align: middle;\n",
       "    }\n",
       "\n",
       "    .dataframe tbody tr th {\n",
       "        vertical-align: top;\n",
       "    }\n",
       "\n",
       "    .dataframe thead th {\n",
       "        text-align: right;\n",
       "    }\n",
       "</style>\n",
       "<table border=\"1\" class=\"dataframe\">\n",
       "  <thead>\n",
       "    <tr style=\"text-align: right;\">\n",
       "      <th></th>\n",
       "      <th>firstname</th>\n",
       "      <th>gender</th>\n",
       "      <th>count</th>\n",
       "      <th>year</th>\n",
       "    </tr>\n",
       "  </thead>\n",
       "  <tbody>\n",
       "    <tr>\n",
       "      <th>1887827</th>\n",
       "      <td>Madison</td>\n",
       "      <td>M</td>\n",
       "      <td>36</td>\n",
       "      <td>2018</td>\n",
       "    </tr>\n",
       "    <tr>\n",
       "      <th>1866629</th>\n",
       "      <td>Madison</td>\n",
       "      <td>F</td>\n",
       "      <td>7036</td>\n",
       "      <td>2018</td>\n",
       "    </tr>\n",
       "    <tr>\n",
       "      <th>161087</th>\n",
       "      <td>Madison</td>\n",
       "      <td>F</td>\n",
       "      <td>7875</td>\n",
       "      <td>2017</td>\n",
       "    </tr>\n",
       "    <tr>\n",
       "      <th>...</th>\n",
       "      <td>...</td>\n",
       "      <td>...</td>\n",
       "      <td>...</td>\n",
       "      <td>...</td>\n",
       "    </tr>\n",
       "    <tr>\n",
       "      <th>1932167</th>\n",
       "      <td>Madison</td>\n",
       "      <td>M</td>\n",
       "      <td>27</td>\n",
       "      <td>1882</td>\n",
       "    </tr>\n",
       "    <tr>\n",
       "      <th>1843222</th>\n",
       "      <td>Madison</td>\n",
       "      <td>M</td>\n",
       "      <td>28</td>\n",
       "      <td>1881</td>\n",
       "    </tr>\n",
       "    <tr>\n",
       "      <th>1841285</th>\n",
       "      <td>Madison</td>\n",
       "      <td>M</td>\n",
       "      <td>22</td>\n",
       "      <td>1880</td>\n",
       "    </tr>\n",
       "  </tbody>\n",
       "</table>\n",
       "<p>178 rows × 4 columns</p>\n",
       "</div>"
      ],
      "text/plain": [
       "        firstname gender  count  year\n",
       "1887827   Madison      M     36  2018\n",
       "1866629   Madison      F   7036  2018\n",
       "161087    Madison      F   7875  2017\n",
       "...           ...    ...    ...   ...\n",
       "1932167   Madison      M     27  1882\n",
       "1843222   Madison      M     28  1881\n",
       "1841285   Madison      M     22  1880\n",
       "\n",
       "[178 rows x 4 columns]"
      ]
     },
     "execution_count": 8,
     "metadata": {},
     "output_type": "execute_result"
    }
   ],
   "source": [
    "# look at a single name\n",
    "names[names['firstname'] == 'Madison'].sort_values(by='year', ascending=False)"
   ]
  },
  {
   "cell_type": "markdown",
   "metadata": {
    "slideshow": {
     "slide_type": "slide"
    }
   },
   "source": [
    "### Approach to joining gender:\n",
    "\n",
    "* Create a table of distinct names with the proportion of applications on which that name identifies as female. \n",
    "* That is, for each name $N$, compute:\n",
    "\n",
    "$$P({\\rm person\\ is\\ female\\ }|{\\rm \\ person\\ has\\ first\\ name\\ } N)$$\n",
    "\n",
    "* Join this table to the salaries dataset.\n",
    "\n",
    "First, creating the table of counts of gender for each name over every year:"
   ]
  },
  {
   "cell_type": "code",
   "execution_count": 16,
   "metadata": {
    "tags": [
     "hide_input"
    ]
   },
   "outputs": [
    {
     "data": {
      "text/html": [
       "<div>\n",
       "<style scoped>\n",
       "    .dataframe tbody tr th:only-of-type {\n",
       "        vertical-align: middle;\n",
       "    }\n",
       "\n",
       "    .dataframe tbody tr th {\n",
       "        vertical-align: top;\n",
       "    }\n",
       "\n",
       "    .dataframe thead th {\n",
       "        text-align: right;\n",
       "    }\n",
       "</style>\n",
       "<table border=\"1\" class=\"dataframe\">\n",
       "  <thead>\n",
       "    <tr style=\"text-align: right;\">\n",
       "      <th>gender</th>\n",
       "      <th>F</th>\n",
       "      <th>M</th>\n",
       "    </tr>\n",
       "    <tr>\n",
       "      <th>firstname</th>\n",
       "      <th></th>\n",
       "      <th></th>\n",
       "    </tr>\n",
       "  </thead>\n",
       "  <tbody>\n",
       "    <tr>\n",
       "      <th>Aaron</th>\n",
       "      <td>4307</td>\n",
       "      <td>581330</td>\n",
       "    </tr>\n",
       "    <tr>\n",
       "      <th>Maria</th>\n",
       "      <td>546026</td>\n",
       "      <td>4237</td>\n",
       "    </tr>\n",
       "    <tr>\n",
       "      <th>Dakota</th>\n",
       "      <td>33204</td>\n",
       "      <td>86089</td>\n",
       "    </tr>\n",
       "    <tr>\n",
       "      <th>Ashley</th>\n",
       "      <td>846120</td>\n",
       "      <td>15668</td>\n",
       "    </tr>\n",
       "    <tr>\n",
       "      <th>Avery</th>\n",
       "      <td>125883</td>\n",
       "      <td>55646</td>\n",
       "    </tr>\n",
       "    <tr>\n",
       "      <th>Paris</th>\n",
       "      <td>28841</td>\n",
       "      <td>8812</td>\n",
       "    </tr>\n",
       "  </tbody>\n",
       "</table>\n",
       "</div>"
      ],
      "text/plain": [
       "gender          F       M\n",
       "firstname                \n",
       "Aaron        4307  581330\n",
       "Maria      546026    4237\n",
       "Dakota      33204   86089\n",
       "Ashley     846120   15668\n",
       "Avery      125883   55646\n",
       "Paris       28841    8812"
      ]
     },
     "execution_count": 16,
     "metadata": {},
     "output_type": "execute_result"
    }
   ],
   "source": [
    "# Counts by gender\n",
    "cnts_by_gender = names.pivot_table(\n",
    "    index='firstname', \n",
    "    columns=['gender'], \n",
    "    values='count', \n",
    "    aggfunc='sum', \n",
    "    fill_value=0\n",
    ")\n",
    "\n",
    "names_idx = ['Aaron', 'Maria', 'Dakota', 'Ashley', 'Avery', 'Paris']\n",
    "cnts_by_gender.loc[names_idx, :]"
   ]
  },
  {
   "cell_type": "markdown",
   "metadata": {},
   "source": [
    "From the total counts in the above table, calculate the proportion of a given name that's identified as female. If this number is greater than 0.5, then the name is likely associated to female; otherwise the name mostly associates to male."
   ]
  },
  {
   "cell_type": "code",
   "execution_count": 19,
   "metadata": {
    "tags": [
     "hide_input"
    ]
   },
   "outputs": [],
   "source": [
    "# proportion of a given name that's identified female\n",
    "prop_female = (cnts_by_gender['F'] / cnts_by_gender.sum(axis=1))\n",
    "genders = (\n",
    "    prop_female.rename('proportion of a given name that\\'s identified as female').to_frame()\n",
    "    .assign(**{'gender': \n",
    "               prop_female.apply(lambda x:'F' if x > 0.5 else 'M').rename('prop_female').to_frame()\n",
    "              }))\n",
    "\n",
    "genders.loc[names_idx]"
   ]
  },
  {
   "cell_type": "markdown",
   "metadata": {
    "slideshow": {
     "slide_type": "slide"
    }
   },
   "source": [
    "### Add a given name column to `salaries` and join names\n",
    "\n",
    "This table of names and their most likely gender attaches a 'most likely gender' to the employees in the salaries dataset. This identification is approximate and doesn't reflect the actual gender with which the employees identify."
   ]
  },
  {
   "cell_type": "code",
   "execution_count": 23,
   "metadata": {
    "tags": [
     "hide_input"
    ]
   },
   "outputs": [
    {
     "data": {
      "text/html": [
       "<div>\n",
       "<style scoped>\n",
       "    .dataframe tbody tr th:only-of-type {\n",
       "        vertical-align: middle;\n",
       "    }\n",
       "\n",
       "    .dataframe tbody tr th {\n",
       "        vertical-align: top;\n",
       "    }\n",
       "\n",
       "    .dataframe thead th {\n",
       "        text-align: right;\n",
       "    }\n",
       "</style>\n",
       "<table border=\"1\" class=\"dataframe\">\n",
       "  <thead>\n",
       "    <tr style=\"text-align: right;\">\n",
       "      <th></th>\n",
       "      <th>Employee Name</th>\n",
       "      <th>Job Title</th>\n",
       "      <th>Total Pay</th>\n",
       "      <th>Status</th>\n",
       "      <th>firstname</th>\n",
       "      <th>proportion of a given name that's identified as female</th>\n",
       "      <th>gender</th>\n",
       "    </tr>\n",
       "  </thead>\n",
       "  <tbody>\n",
       "    <tr>\n",
       "      <th>0</th>\n",
       "      <td>Leonardo Xxxx</td>\n",
       "      <td>Library Clerk</td>\n",
       "      <td>43336.0</td>\n",
       "      <td>FT</td>\n",
       "      <td>Leonardo</td>\n",
       "      <td>0.001915</td>\n",
       "      <td>M</td>\n",
       "    </tr>\n",
       "    <tr>\n",
       "      <th>1</th>\n",
       "      <td>Reina Xxxx</td>\n",
       "      <td>Accountant 3</td>\n",
       "      <td>77461.0</td>\n",
       "      <td>FT</td>\n",
       "      <td>Reina</td>\n",
       "      <td>1.000000</td>\n",
       "      <td>F</td>\n",
       "    </tr>\n",
       "    <tr>\n",
       "      <th>2</th>\n",
       "      <td>La Xxxx</td>\n",
       "      <td>Info Sys Anlyst 3</td>\n",
       "      <td>72983.0</td>\n",
       "      <td>FT</td>\n",
       "      <td>La</td>\n",
       "      <td>0.824943</td>\n",
       "      <td>F</td>\n",
       "    </tr>\n",
       "    <tr>\n",
       "      <th>3</th>\n",
       "      <td>Montserrat Xxxx</td>\n",
       "      <td>Pool Guard 1</td>\n",
       "      <td>8476.0</td>\n",
       "      <td>PT</td>\n",
       "      <td>Montserrat</td>\n",
       "      <td>1.000000</td>\n",
       "      <td>F</td>\n",
       "    </tr>\n",
       "    <tr>\n",
       "      <th>4</th>\n",
       "      <td>Serena Xxxx</td>\n",
       "      <td>Program Manager</td>\n",
       "      <td>122884.0</td>\n",
       "      <td>FT</td>\n",
       "      <td>Serena</td>\n",
       "      <td>0.999616</td>\n",
       "      <td>F</td>\n",
       "    </tr>\n",
       "  </tbody>\n",
       "</table>\n",
       "</div>"
      ],
      "text/plain": [
       "     Employee Name          Job Title  Total Pay Status   firstname  \\\n",
       "0    Leonardo Xxxx      Library Clerk    43336.0     FT    Leonardo   \n",
       "1       Reina Xxxx       Accountant 3    77461.0     FT       Reina   \n",
       "2          La Xxxx  Info Sys Anlyst 3    72983.0     FT          La   \n",
       "3  Montserrat Xxxx       Pool Guard 1     8476.0     PT  Montserrat   \n",
       "4      Serena Xxxx    Program Manager   122884.0     FT      Serena   \n",
       "\n",
       "   proportion of a given name that's identified as female gender  \n",
       "0                                           0.001915           M  \n",
       "1                                           1.000000           F  \n",
       "2                                           0.824943           F  \n",
       "3                                           1.000000           F  \n",
       "4                                           0.999616           F  "
      ]
     },
     "execution_count": 23,
     "metadata": {},
     "output_type": "execute_result"
    }
   ],
   "source": [
    "# Add firstname column\n",
    "salaries.loc[:, 'firstname'] = salaries['Employee Name'].str.split().apply(lambda x:x[0])\n",
    "\n",
    "# join gender\n",
    "salaries_with_gender = salaries.merge(genders.reset_index(), on='firstname', how='left')\n",
    "salaries_with_gender.sample(5).reset_index(drop=True)"
   ]
  },
  {
   "cell_type": "markdown",
   "metadata": {
    "slideshow": {
     "slide_type": "slide"
    }
   },
   "source": [
    "### Do women earn similar pay to their contemporaries?\n",
    "\n",
    "With a most likely gender attached to the salaries dataset, the salaries can now be described by gender:"
   ]
  },
  {
   "cell_type": "code",
   "execution_count": 178,
   "metadata": {
    "scrolled": true,
    "tags": [
     "hide_input"
    ]
   },
   "outputs": [
    {
     "data": {
      "text/html": [
       "<div>\n",
       "<style scoped>\n",
       "    .dataframe tbody tr th:only-of-type {\n",
       "        vertical-align: middle;\n",
       "    }\n",
       "\n",
       "    .dataframe tbody tr th {\n",
       "        vertical-align: top;\n",
       "    }\n",
       "\n",
       "    .dataframe thead th {\n",
       "        text-align: right;\n",
       "    }\n",
       "</style>\n",
       "<table border=\"1\" class=\"dataframe\">\n",
       "  <thead>\n",
       "    <tr style=\"text-align: right;\">\n",
       "      <th></th>\n",
       "      <th>F</th>\n",
       "      <th>M</th>\n",
       "      <th>All</th>\n",
       "    </tr>\n",
       "  </thead>\n",
       "  <tbody>\n",
       "    <tr>\n",
       "      <th>count</th>\n",
       "      <td>4165.000000</td>\n",
       "      <td>7907.000000</td>\n",
       "      <td>12493.000000</td>\n",
       "    </tr>\n",
       "    <tr>\n",
       "      <th>mean</th>\n",
       "      <td>53970.997119</td>\n",
       "      <td>71226.907550</td>\n",
       "      <td>64984.971024</td>\n",
       "    </tr>\n",
       "    <tr>\n",
       "      <th>std</th>\n",
       "      <td>36251.189372</td>\n",
       "      <td>43419.913446</td>\n",
       "      <td>41812.990357</td>\n",
       "    </tr>\n",
       "    <tr>\n",
       "      <th>min</th>\n",
       "      <td>8.000000</td>\n",
       "      <td>3.000000</td>\n",
       "      <td>3.000000</td>\n",
       "    </tr>\n",
       "    <tr>\n",
       "      <th>25%</th>\n",
       "      <td>25853.000000</td>\n",
       "      <td>41557.500000</td>\n",
       "      <td>36430.000000</td>\n",
       "    </tr>\n",
       "    <tr>\n",
       "      <th>50%</th>\n",
       "      <td>50789.000000</td>\n",
       "      <td>67874.000000</td>\n",
       "      <td>61452.000000</td>\n",
       "    </tr>\n",
       "    <tr>\n",
       "      <th>75%</th>\n",
       "      <td>75128.000000</td>\n",
       "      <td>100689.000000</td>\n",
       "      <td>91400.000000</td>\n",
       "    </tr>\n",
       "    <tr>\n",
       "      <th>max</th>\n",
       "      <td>237512.000000</td>\n",
       "      <td>323377.000000</td>\n",
       "      <td>323377.000000</td>\n",
       "    </tr>\n",
       "  </tbody>\n",
       "</table>\n",
       "</div>"
      ],
      "text/plain": [
       "                   F              M            All\n",
       "count    4165.000000    7907.000000   12493.000000\n",
       "mean    53970.997119   71226.907550   64984.971024\n",
       "std     36251.189372   43419.913446   41812.990357\n",
       "min         8.000000       3.000000       3.000000\n",
       "25%     25853.000000   41557.500000   36430.000000\n",
       "50%     50789.000000   67874.000000   61452.000000\n",
       "75%     75128.000000  100689.000000   91400.000000\n",
       "max    237512.000000  323377.000000  323377.000000"
      ]
     },
     "execution_count": 178,
     "metadata": {},
     "output_type": "execute_result"
    }
   ],
   "source": [
    "pd.concat([\n",
    "    salaries_with_gender.groupby('gender')['Total Pay'].describe().T,\n",
    "    salaries_with_gender['Total Pay'].describe().rename('All')\n",
    "], axis=1)"
   ]
  },
  {
   "cell_type": "markdown",
   "metadata": {},
   "source": [
    "There is clearly a large difference in salaries between the males and females! This observation brings up a variety of questions:\n",
    "* Is this difference the result of some sort of true unfairness, or perhaps the difference is just due to chance?\n",
    "* If the difference isn't due to chance, *why* does it exist?"
   ]
  },
  {
   "cell_type": "markdown",
   "metadata": {
    "slideshow": {
     "slide_type": "slide"
    }
   },
   "source": [
    "### Use a hypothesis test\n",
    "\n",
    "Another way of phrasing the question \"Is this difference the result of some sort of true unfairness, or perhaps the difference is just due to chance?\" is as\n",
    "\n",
    "> Can women's median pay be explained as a random subset of the population of city of SD salaries?\n",
    "\n",
    "If so, the salary of women doesn't significantly differ from the population; otherwise, some other mechanism is needed to explain the difference!\n",
    "\n",
    "Hypothesis tests answer these sorts of questions. In particular, such a question can be simulated:\n",
    "* Random subsets of employees are drawn from the dataset, of the same size as the number of female employees,\n",
    "* The median salary of each of these random groups is calculated,\n",
    "* The observed salary of female employees is compared to the simulated 'randomly drawn' median salaries.\n",
    "Finally, one asks if the observed, real-life salary was just as likely drawn from a random subset of employees. If so, then the observed difference may have occurred due to chance; otherwise, something else is going on!\n",
    "\n",
    "The plot below illustrates the results of this simulation:\n",
    "* The blue distribution represents the median salaries of these 'randomly formed groups'.\n",
    "* The orange dot represents the real-life median female salary.\n",
    "\n",
    "It seems unlikely this difference is due to chance!"
   ]
  },
  {
   "cell_type": "code",
   "execution_count": 24,
   "metadata": {
    "tags": [
     "hide_input"
    ]
   },
   "outputs": [],
   "source": [
    "# size of sample is number of women:\n",
    "n_female = (salaries_with_gender['gender'] == 'F').sum()\n",
    "\n",
    "\n",
    "# calculate observed \n",
    "female_median = salaries_with_gender.loc[salaries_with_gender['gender'] == 'F']['Total Pay'].median()\n",
    "\n",
    "\n",
    "# simulate 1000 draws from the population of size n_female\n",
    "medians = []\n",
    "for _ in np.arange(1000):\n",
    "    median = salaries_with_gender.sample(n_female)['Total Pay'].median()\n",
    "    medians.append(median)\n",
    "    \n",
    "    \n",
    "title='Median salary of randomly chosen groups from population'\n",
    "pd.Series(medians).plot(kind='hist', title=title);\n",
    "plt.plot([female_median], [0], marker='o', markersize=10)\n",
    "plt.legend(['Observed Median Salary of Women', 'Median Salaries of Random Groups']);"
   ]
  },
  {
   "cell_type": "markdown",
   "metadata": {
    "slideshow": {
     "slide_type": "slide"
    }
   },
   "source": [
    "## Truism of data science\n",
    "\n",
    "Now that the question of differences in the salaries of genders is answered, a truism of data science rears its head: answering one question always raises a dozen more.\n",
    "\n",
    "First, are the results correct?\n",
    "* Is dataset error-free and representative (or error-free enough)?\n",
    "* Is the name-to-gender assignment correct (enough)?\n",
    "* What biases might have been introduced when joining the dataset of names to salaries?\n",
    "* Are the results applicable outside of 2017? outside of San Diego? \n",
    "\n",
    "Second, why are the results what they are?\n",
    "* Is the disparity correlated to pay-type? job status? job type?\n",
    "* What is the cause of the disparity?\n",
    "\n",
    "The sections below approach each of these questions, giving a feel for what's involved in answering them."
   ]
  },
  {
   "cell_type": "markdown",
   "metadata": {
    "slideshow": {
     "slide_type": "slide"
    }
   },
   "source": [
    "### Is the dataset representative?\n",
    "\n",
    "* Look up the \"transparent California\" and verify this dataset is a *census* (everyone).\n",
    "* Is \"Total Pay\" the most appropriate field to use?\n",
    "* Cross-reference independent counts of city of San Diego employees to assess the salary data.\n",
    "* What is the population of interest? Is it San Diego employees in 2017, or something more broad?"
   ]
  },
  {
   "cell_type": "markdown",
   "metadata": {
    "slideshow": {
     "slide_type": "slide"
    }
   },
   "source": [
    "### Is the name-to-gender assignment correct?\n",
    "\n",
    "* How many names are borderline male/female?\n",
    "* Does it make sense to incorporate name usage from all years in the dataset? (1880-2017?)\n",
    "\n",
    "The plot below shows the distribution of 'proportions of names being female.' \n",
    "* The bar near 0 are counts of names that are almost entirely male. \n",
    "* The bar near 1 are counts of names that are almost entirely female. \n",
    "* There are very few names in the middle that are gender-neutral.\n",
    "\n",
    "However, each unit plotted is a distinct name; the proportions hide the number of people with each name. What if the most popular name in the country is gender-neutral? This distribution doesn't reveal this property and is an example of what's called an *Ecological Fallacy* (see the chapter on grouping and aggregation).\n",
    "\n",
    "What's more appropriate is to look at this distribution of confidence among the dataset of employees."
   ]
  },
  {
   "cell_type": "code",
   "execution_count": 26,
   "metadata": {
    "tags": [
     "hide_input"
    ]
   },
   "outputs": [
    {
     "data": {
      "image/png": "[encoded data removed]",
      "text/plain": [
       "<Figure size 432x288 with 1 Axes>"
      ]
     },
     "metadata": {
      "needs_background": "light"
     },
     "output_type": "display_data"
    }
   ],
   "source": [
    "title = 'distribution of gendered-ness of names\\n 0 = masculine \\n 1 = feminine'\n",
    "prop_female.plot(kind='hist', bins=20, title=title);"
   ]
  },
  {
   "cell_type": "markdown",
   "metadata": {
    "slideshow": {
     "slide_type": "slide"
    }
   },
   "source": [
    "### Assessment of the join?\n",
    "\n",
    "* Are there names in the salary dataset that aren't in the SSA dataset?\n",
    "    - Who might not be in the SSA dataset? \n",
    "    - Might these names be biased toward certain salaries?\n",
    "* Does the salary dataset have a disproportionately large portion of gender-neutral names.\n",
    "* Is it better to use a subset of the SSA dataset (e.g. by state? by year?)\n",
    "    - Do the gender of names typically vary by geography or over time?\n",
    "    \n",
    "The proportion of employees not in the SSA data is 3.5%, which is fairly small, but may affect the results. These individuals should be investigated more closely; a look at the employees with a gender assigned versus those that didn't appear in the SSA names dataset reveals some bias (see table below). \n",
    "\n",
    "Perhaps those that didn't appear in the names dataset have lower salaries because they belong to an uncommon ethnic group (e.g. an immigrant group)? Such populations would likely work in jobs that earn lower salaries. One could further clean up these missing genders by incorporating the demographic information from immigration data.\n",
    "\n",
    "These problems centered around bias from missing data are covered in the 'Missing Data' chapter of the book."
   ]
  },
  {
   "cell_type": "code",
   "execution_count": 29,
   "metadata": {
    "scrolled": false,
    "tags": [
     "hide_input"
    ]
   },
   "outputs": [
    {
     "data": {
      "text/html": [
       "<div>\n",
       "<style scoped>\n",
       "    .dataframe tbody tr th:only-of-type {\n",
       "        vertical-align: middle;\n",
       "    }\n",
       "\n",
       "    .dataframe tbody tr th {\n",
       "        vertical-align: top;\n",
       "    }\n",
       "\n",
       "    .dataframe thead th {\n",
       "        text-align: right;\n",
       "    }\n",
       "</style>\n",
       "<table border=\"1\" class=\"dataframe\">\n",
       "  <thead>\n",
       "    <tr style=\"text-align: right;\">\n",
       "      <th>joined</th>\n",
       "      <th>False</th>\n",
       "      <th>True</th>\n",
       "    </tr>\n",
       "  </thead>\n",
       "  <tbody>\n",
       "    <tr>\n",
       "      <th>count</th>\n",
       "      <td>421.000000</td>\n",
       "      <td>12072.000000</td>\n",
       "    </tr>\n",
       "    <tr>\n",
       "      <th>mean</th>\n",
       "      <td>56714.684086</td>\n",
       "      <td>65273.389745</td>\n",
       "    </tr>\n",
       "    <tr>\n",
       "      <th>std</th>\n",
       "      <td>38445.038529</td>\n",
       "      <td>41897.581538</td>\n",
       "    </tr>\n",
       "    <tr>\n",
       "      <th>...</th>\n",
       "      <td>...</td>\n",
       "      <td>...</td>\n",
       "    </tr>\n",
       "    <tr>\n",
       "      <th>50%</th>\n",
       "      <td>54966.000000</td>\n",
       "      <td>61653.000000</td>\n",
       "    </tr>\n",
       "    <tr>\n",
       "      <th>75%</th>\n",
       "      <td>78376.000000</td>\n",
       "      <td>91895.000000</td>\n",
       "    </tr>\n",
       "    <tr>\n",
       "      <th>max</th>\n",
       "      <td>194920.000000</td>\n",
       "      <td>323377.000000</td>\n",
       "    </tr>\n",
       "  </tbody>\n",
       "</table>\n",
       "<p>8 rows × 2 columns</p>\n",
       "</div>"
      ],
      "text/plain": [
       "joined          False          True \n",
       "count      421.000000   12072.000000\n",
       "mean     56714.684086   65273.389745\n",
       "std      38445.038529   41897.581538\n",
       "...               ...            ...\n",
       "50%      54966.000000   61653.000000\n",
       "75%      78376.000000   91895.000000\n",
       "max     194920.000000  323377.000000\n",
       "\n",
       "[8 rows x 2 columns]"
      ]
     },
     "execution_count": 29,
     "metadata": {},
     "output_type": "execute_result"
    }
   ],
   "source": [
    "# proportion of employees not in SSA dataset\n",
    "# salaries_with_gender['gender'].isnull().mean()\n",
    "\n",
    "# Description of total pay by joined vs not joined\n",
    "(\n",
    "    salaries_with_gender\n",
    "    .assign(joined=salaries_with_gender['gender'].notnull())\n",
    "    .groupby('joined')['Total Pay']\n",
    "    .describe()\n",
    "    .T\n",
    ")"
   ]
  },
  {
   "cell_type": "code",
   "execution_count": 30,
   "metadata": {
    "scrolled": false,
    "tags": [
     "hide_input"
    ]
   },
   "outputs": [
    {
     "data": {
      "image/png": "[encoded data removed]",
      "text/plain": [
       "<Figure size 432x288 with 1 Axes>"
      ]
     },
     "metadata": {
      "needs_background": "light"
     },
     "output_type": "display_data"
    }
   ],
   "source": [
    "nonjoins = salaries_with_gender.loc[salaries_with_gender['gender'].isnull()]\n",
    "\n",
    "title = 'Distribution of Salaries'\n",
    "nonjoins['Total Pay'].plot(kind='hist', bins=50, alpha=0.5, density=True, sharex=True)\n",
    "salaries_with_gender['Total Pay'].plot(kind='hist', bins=50, alpha=0.5, density=True, sharex=True, title=title)\n",
    "plt.legend(['Not in SSA','All']);"
   ]
  },
  {
   "cell_type": "markdown",
   "metadata": {
    "slideshow": {
     "slide_type": "slide"
    }
   },
   "source": [
    "### Why does pay disparity exist?\n",
    "\n",
    "Is the pay disparity correlated to another field? job status? job type? Is the proportion of women in a job type correlated to pay? One approach might ask if women earn similar salaries as men for a given job type.\n",
    "\n",
    "Below, a few job types are isolated for investigation. For example, those who work in 'Fire' related fields tend to be male and make high salaries:"
   ]
  },
  {
   "cell_type": "code",
   "execution_count": 37,
   "metadata": {
    "scrolled": false,
    "tags": [
     "hide_input"
    ]
   },
   "outputs": [
    {
     "data": {
      "text/html": [
       "<div>\n",
       "<style scoped>\n",
       "    .dataframe tbody tr th:only-of-type {\n",
       "        vertical-align: middle;\n",
       "    }\n",
       "\n",
       "    .dataframe tbody tr th {\n",
       "        vertical-align: top;\n",
       "    }\n",
       "\n",
       "    .dataframe thead th {\n",
       "        text-align: right;\n",
       "    }\n",
       "</style>\n",
       "<table border=\"1\" class=\"dataframe\">\n",
       "  <thead>\n",
       "    <tr style=\"text-align: right;\">\n",
       "      <th></th>\n",
       "      <th>Employee Name</th>\n",
       "      <th>Job Title</th>\n",
       "      <th>Total Pay</th>\n",
       "      <th>Status</th>\n",
       "      <th>firstname</th>\n",
       "      <th>proportion of a given name that's identified as female</th>\n",
       "      <th>gender</th>\n",
       "    </tr>\n",
       "  </thead>\n",
       "  <tbody>\n",
       "    <tr>\n",
       "      <th>342</th>\n",
       "      <td>Michael Xxxx</td>\n",
       "      <td>Fire Engineer</td>\n",
       "      <td>150291.0</td>\n",
       "      <td>PT</td>\n",
       "      <td>Michael</td>\n",
       "      <td>0.004957</td>\n",
       "      <td>M</td>\n",
       "    </tr>\n",
       "    <tr>\n",
       "      <th>555</th>\n",
       "      <td>Dustin Xxxx</td>\n",
       "      <td>Fire Fighter 2</td>\n",
       "      <td>134974.0</td>\n",
       "      <td>FT</td>\n",
       "      <td>Dustin</td>\n",
       "      <td>0.006679</td>\n",
       "      <td>M</td>\n",
       "    </tr>\n",
       "    <tr>\n",
       "      <th>12027</th>\n",
       "      <td>Chase Xxxx</td>\n",
       "      <td>Fire Fighter 2</td>\n",
       "      <td>3900.0</td>\n",
       "      <td>PT</td>\n",
       "      <td>Chase</td>\n",
       "      <td>0.021086</td>\n",
       "      <td>M</td>\n",
       "    </tr>\n",
       "    <tr>\n",
       "      <th>5718</th>\n",
       "      <td>Nick Xxxx</td>\n",
       "      <td>Fire Dispatch Supv</td>\n",
       "      <td>62799.0</td>\n",
       "      <td>FT</td>\n",
       "      <td>Nick</td>\n",
       "      <td>0.002659</td>\n",
       "      <td>M</td>\n",
       "    </tr>\n",
       "    <tr>\n",
       "      <th>2627</th>\n",
       "      <td>Dave Xxxx</td>\n",
       "      <td>Fire Engineer</td>\n",
       "      <td>91446.0</td>\n",
       "      <td>FT</td>\n",
       "      <td>Dave</td>\n",
       "      <td>0.001780</td>\n",
       "      <td>M</td>\n",
       "    </tr>\n",
       "  </tbody>\n",
       "</table>\n",
       "</div>"
      ],
      "text/plain": [
       "      Employee Name           Job Title  Total Pay Status firstname  \\\n",
       "342    Michael Xxxx       Fire Engineer   150291.0     PT   Michael   \n",
       "555     Dustin Xxxx      Fire Fighter 2   134974.0     FT    Dustin   \n",
       "12027    Chase Xxxx      Fire Fighter 2     3900.0     PT     Chase   \n",
       "5718      Nick Xxxx  Fire Dispatch Supv    62799.0     FT      Nick   \n",
       "2627      Dave Xxxx       Fire Engineer    91446.0     FT      Dave   \n",
       "\n",
       "       proportion of a given name that's identified as female gender  \n",
       "342                                             0.004957           M  \n",
       "555                                             0.006679           M  \n",
       "12027                                           0.021086           M  \n",
       "5718                                            0.002659           M  \n",
       "2627                                            0.001780           M  "
      ]
     },
     "execution_count": 37,
     "metadata": {},
     "output_type": "execute_result"
    }
   ],
   "source": [
    "# select jobs with word 'fire' in them\n",
    "firejobs = salaries_with_gender.loc[salaries_with_gender['Job Title'].str.contains('Fire')]\n",
    "firejobs.sample(5)"
   ]
  },
  {
   "cell_type": "markdown",
   "metadata": {},
   "source": [
    "The proportion of fire-related jobs held by women is only 8.8%, yet fire-related jobs make significantly more than the overall median pay of 61,000USD per year:"
   ]
  },
  {
   "cell_type": "code",
   "execution_count": 34,
   "metadata": {
    "tags": [
     "hide_input"
    ]
   },
   "outputs": [
    {
     "data": {
      "text/plain": [
       "count      1017.000000\n",
       "mean     110967.646018\n",
       "std       49678.113970\n",
       "             ...      \n",
       "50%      112568.000000\n",
       "75%      141502.000000\n",
       "max      323377.000000\n",
       "Name: Total Pay, Length: 8, dtype: float64"
      ]
     },
     "execution_count": 34,
     "metadata": {},
     "output_type": "execute_result"
    }
   ],
   "source": [
    "# Proportion of fire-related jobs held by women\n",
    "#(firejobs['gender'] == 'F').mean()\n",
    "\n",
    "# Pay Statistics for fire-related jobs\n",
    "firejobs['Total Pay'].describe()"
   ]
  },
  {
   "cell_type": "markdown",
   "metadata": {},
   "source": [
    "On the other hand, those with library-related jobs tend to be female and make lower-than-average salaries:"
   ]
  },
  {
   "cell_type": "code",
   "execution_count": 38,
   "metadata": {
    "tags": [
     "hide_input"
    ]
   },
   "outputs": [
    {
     "data": {
      "text/html": [
       "<div>\n",
       "<style scoped>\n",
       "    .dataframe tbody tr th:only-of-type {\n",
       "        vertical-align: middle;\n",
       "    }\n",
       "\n",
       "    .dataframe tbody tr th {\n",
       "        vertical-align: top;\n",
       "    }\n",
       "\n",
       "    .dataframe thead th {\n",
       "        text-align: right;\n",
       "    }\n",
       "</style>\n",
       "<table border=\"1\" class=\"dataframe\">\n",
       "  <thead>\n",
       "    <tr style=\"text-align: right;\">\n",
       "      <th></th>\n",
       "      <th>Employee Name</th>\n",
       "      <th>Job Title</th>\n",
       "      <th>Total Pay</th>\n",
       "      <th>Status</th>\n",
       "      <th>firstname</th>\n",
       "      <th>proportion of a given name that's identified as female</th>\n",
       "      <th>gender</th>\n",
       "    </tr>\n",
       "  </thead>\n",
       "  <tbody>\n",
       "    <tr>\n",
       "      <th>5955</th>\n",
       "      <td>Patricia Xxxx</td>\n",
       "      <td>Librarian 2</td>\n",
       "      <td>63320.0</td>\n",
       "      <td>FT</td>\n",
       "      <td>Patricia</td>\n",
       "      <td>0.996853</td>\n",
       "      <td>F</td>\n",
       "    </tr>\n",
       "    <tr>\n",
       "      <th>10363</th>\n",
       "      <td>Joseph Xxxx</td>\n",
       "      <td>Library Aide</td>\n",
       "      <td>17777.0</td>\n",
       "      <td>PT</td>\n",
       "      <td>Joseph</td>\n",
       "      <td>0.004060</td>\n",
       "      <td>M</td>\n",
       "    </tr>\n",
       "    <tr>\n",
       "      <th>11194</th>\n",
       "      <td>Jaqueline Xxxx</td>\n",
       "      <td>Library Aide</td>\n",
       "      <td>10189.0</td>\n",
       "      <td>PT</td>\n",
       "      <td>Jaqueline</td>\n",
       "      <td>0.998469</td>\n",
       "      <td>F</td>\n",
       "    </tr>\n",
       "    <tr>\n",
       "      <th>8706</th>\n",
       "      <td>Alexis Xxxx</td>\n",
       "      <td>Library Clerk</td>\n",
       "      <td>39696.0</td>\n",
       "      <td>FT</td>\n",
       "      <td>Alexis</td>\n",
       "      <td>0.841756</td>\n",
       "      <td>F</td>\n",
       "    </tr>\n",
       "    <tr>\n",
       "      <th>8430</th>\n",
       "      <td>Steven Xxxx</td>\n",
       "      <td>Library Clerk</td>\n",
       "      <td>43056.0</td>\n",
       "      <td>FT</td>\n",
       "      <td>Steven</td>\n",
       "      <td>0.003469</td>\n",
       "      <td>M</td>\n",
       "    </tr>\n",
       "  </tbody>\n",
       "</table>\n",
       "</div>"
      ],
      "text/plain": [
       "        Employee Name      Job Title  Total Pay Status  firstname  \\\n",
       "5955    Patricia Xxxx    Librarian 2    63320.0     FT   Patricia   \n",
       "10363     Joseph Xxxx   Library Aide    17777.0     PT     Joseph   \n",
       "11194  Jaqueline Xxxx   Library Aide    10189.0     PT  Jaqueline   \n",
       "8706      Alexis Xxxx  Library Clerk    39696.0     FT     Alexis   \n",
       "8430      Steven Xxxx  Library Clerk    43056.0     FT     Steven   \n",
       "\n",
       "       proportion of a given name that's identified as female gender  \n",
       "5955                                            0.996853           F  \n",
       "10363                                           0.004060           M  \n",
       "11194                                           0.998469           F  \n",
       "8706                                            0.841756           F  \n",
       "8430                                            0.003469           M  "
      ]
     },
     "execution_count": 38,
     "metadata": {},
     "output_type": "execute_result"
    }
   ],
   "source": [
    "# select jobs with library related jobs\n",
    "libjobs = salaries_with_gender.loc[salaries_with_gender['Job Title'].str.contains('Librar')]\n",
    "libjobs.sample(5)"
   ]
  },
  {
   "cell_type": "markdown",
   "metadata": {},
   "source": [
    "The proportion of library-related jobs held by women is 64%, yet library related jobs make significantly less than the overall median salary:"
   ]
  },
  {
   "cell_type": "code",
   "execution_count": 34,
   "metadata": {
    "tags": [
     "hide_input"
    ]
   },
   "outputs": [
    {
     "data": {
      "text/plain": [
       "count       651.000000\n",
       "mean      30383.377880\n",
       "std       23236.318495\n",
       "min          23.000000\n",
       "25%       10598.500000\n",
       "50%       26952.000000\n",
       "75%       43566.000000\n",
       "max      167269.000000\n",
       "Name: Total Pay, dtype: float64"
      ]
     },
     "execution_count": 34,
     "metadata": {},
     "output_type": "execute_result"
    }
   ],
   "source": [
    "# Proportion of library-related jobs held by women\n",
    "#(libjobs['gender'] == 'F').mean()\n",
    "\n",
    "# Pay Statistics for fire-related jobs\n",
    "libjobs['Total Pay'].describe()"
   ]
  },
  {
   "cell_type": "markdown",
   "metadata": {
    "slideshow": {
     "slide_type": "slide"
    }
   },
   "source": [
    "### What is the cause of the disparity?\n",
    "\n",
    "Now that the picture of employee salaries is better understood the next steps all consist of domain more research:\n",
    "- Research historical gender preferences across jobs\n",
    "- list possibilities and formulate hypothesis for a cause,\n",
    "- find data capable of describing these possibilities,\n",
    "- use a [natural experiment](https://en.wikipedia.org/wiki/Natural_experiment) to argue causality."
   ]
  }
 ],
 "metadata": {
  "celltoolbar": "Tags",
  "kernelspec": {
   "display_name": "Python 3",
   "language": "python",
   "name": "python3"
  },
  "language_info": {
   "codemirror_mode": {
    "name": "ipython",
    "version": 3
   },
   "file_extension": ".py",
   "mimetype": "text/x-python",
   "name": "python",
   "nbconvert_exporter": "python",
   "pygments_lexer": "ipython3",
   "version": "3.7.1"
  },
  "livereveal": {
   "scroll": true,
   "transition": "none"
  }
 },
 "nbformat": 4,
 "nbformat_minor": 2
}
