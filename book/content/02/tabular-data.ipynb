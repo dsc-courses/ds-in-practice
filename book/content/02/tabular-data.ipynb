{
 "cells": [
  {
   "cell_type": "code",
   "execution_count": null,
   "metadata": {
    "tags": [
     "remove_cell"
    ]
   },
   "outputs": [],
   "source": []
  },
  {
   "cell_type": "markdown",
   "metadata": {},
   "source": [
    "# 2.1. Introduction to Tabular Data"
   ]
  },
  {
   "cell_type": "markdown",
   "metadata": {},
   "source": [
    "## The Tabular Data Model\n",
    "\n",
    "\n",
    "#### Learning outcomes\n",
    "- Understand the tabular data model.\n",
    "- Describe the contents of simple tables.\n",
    "\n",
    "### Introduction\n",
    "    \n",
    "Investigations into phenomena require taking *measurements* of *events* or *individuals* in question. These two primary components of a study are typically kept in tabular data structures. The rows of a table consist of observations (e.g. individuals or events), whereas the columns of a table contain the measurements made on each individual.\n",
    "\n",
    "For example, the table below consists of the answers to survey questions sent to a group of people. Each person (individual) provides answers to the questions posed (the measurements).\n",
    "\n",
    "|Respondent Id|Name|Job Title|Favorite Color|Age|\n",
    "|---|---|---|---|---|\n",
    "|120|Alice|CEO|Green|47|\n",
    "|121|Bob|Store Manager|Yellow|35|\n",
    "|122|Cai|Writer|Orange|38|\n",
    "|129|Daniela|Engineer|Pink|26|\n",
    "|...|...|...|...|...|\n",
    "\n",
    "\n",
    "\n",
    "### The anatomy of a table\n",
    "\n",
    "<!-- Add relational algebra? -->\n",
    "\n",
    "Tables are two-dimensional data structures holding observations; each observation is composed of different measurements or attributes. \n",
    "\n",
    "* A **row** of a table consists of an individual observation. As a table may contain a wide variety of attributes, a given row may describe a single individual in a variety of ways.\n",
    "* A **column** of a table consists of the collection of a single measurement for all observations. A column consists of data of *homogeneous scale* on which statistics are calculated. Columns are often called **variables** or **attributes** as well.\n",
    "* Tables have **labels** that identify their rows and columns:\n",
    "    - The row labels are referred to as the **index** of the table.\n",
    "    - The column labels are referred to as the **column names** of the table."
   ]
  },
  {
   "cell_type": "markdown",
   "metadata": {},
   "source": [
    "![Anatomy of a Table](./imgs/table.png)"
   ]
  },
  {
   "cell_type": "markdown",
   "metadata": {},
   "source": [
    "**Example:** In the table above, the red column is the *favorite color* variable, the yellow row contains the survey response for *respondent 129*, the blue portions of the table contain the index and column labels."
   ]
  },
  {
   "cell_type": "markdown",
   "metadata": {},
   "source": [
    "# Tables in python, using Pandas\n",
    "\n",
    "Python's most popular library for table manipulation is called `Pandas`. The name derives from the term 'Panel Data'. `Pandas` is a large, active library used by a large community of pythond developers engaged in data manipulation. Learning to use this library comes with both the advantages and frustrations of using any active code-base:\n",
    "\n",
    "The advantages:\n",
    "* it has *many* useful features that makes data manipulation quick and easy,\n",
    "* many of `Pandas`' features are `C`-optimized, making it far more performant than pure python code\n",
    "\n",
    "The disadvantages:\n",
    "* the library evolved organically, yielding an interface that is sometimes awkward and unintuitive,\n",
    "* much of the library is under active development, so don't be surprised if newer versions behaving differently!\n",
    "\n",
    "`Pandas` typically has **many** ways of coding the same logic using a wide variety of functions and methods. These notes will restrict usage to a minimal set of the `Pandas` library that lend themselves toward the general patterns of tabular computing, applicable beyond `Pandas` (e.g. in `SQL`, `R`, `Spark`).\n",
    "\n",
    "While the reader is encouraged to explore the myriad functions and methods of the `Pandas` API, they are also encouraged to attempt to implement solutions using the smaller set of functions considered in these notes. Regardless, the reader is encouraged to explore the `Pandas` documentation (which is quite good!) and understand the possible inputs and outputs of each function they use.\n",
    "\n",
    "To begin using `Pandas`, import the library as follows:"
   ]
  },
  {
   "cell_type": "code",
   "execution_count": 12,
   "metadata": {},
   "outputs": [],
   "source": [
    "import pandas as pd"
   ]
  },
  {
   "cell_type": "markdown",
   "metadata": {},
   "source": [
    "### Creating `DataFrame` objects\n",
    "\n",
    "Depending on the perspective, tables can be considered either a collection of rows (observations) or columns (measurements). As such, a table is constructed by either one of these structures.\n",
    "\n",
    "To create a table in `Pandas`, pass either of the following to the `DataFrame` constructor:\n",
    "1. an ordered collection of observations representing the rows of a table (e.g. a list-of-lists), or\n",
    "2. an collection of measurements representing the columns of the table (e.g. a dictionary of lists, keyed by column name)."
   ]
  },
  {
   "cell_type": "markdown",
   "metadata": {},
   "source": [
    "**Example:** Defining a table via a collection of observations (rows):"
   ]
  },
  {
   "cell_type": "code",
   "execution_count": 24,
   "metadata": {},
   "outputs": [
    {
     "data": {
      "text/html": [
       "<div>\n",
       "<style scoped>\n",
       "    .dataframe tbody tr th:only-of-type {\n",
       "        vertical-align: middle;\n",
       "    }\n",
       "\n",
       "    .dataframe tbody tr th {\n",
       "        vertical-align: top;\n",
       "    }\n",
       "\n",
       "    .dataframe thead th {\n",
       "        text-align: right;\n",
       "    }\n",
       "</style>\n",
       "<table border=\"1\" class=\"dataframe\">\n",
       "  <thead>\n",
       "    <tr style=\"text-align: right;\">\n",
       "      <th></th>\n",
       "      <th>Name</th>\n",
       "      <th>Job Title</th>\n",
       "      <th>Favorite Color</th>\n",
       "      <th>Age</th>\n",
       "    </tr>\n",
       "  </thead>\n",
       "  <tbody>\n",
       "    <tr>\n",
       "      <th>0</th>\n",
       "      <td>Alice</td>\n",
       "      <td>CEO</td>\n",
       "      <td>Green</td>\n",
       "      <td>47</td>\n",
       "    </tr>\n",
       "    <tr>\n",
       "      <th>1</th>\n",
       "      <td>Bob</td>\n",
       "      <td>Store Manager</td>\n",
       "      <td>Yellow</td>\n",
       "      <td>35</td>\n",
       "    </tr>\n",
       "    <tr>\n",
       "      <th>2</th>\n",
       "      <td>Cai</td>\n",
       "      <td>Writer</td>\n",
       "      <td>Orange</td>\n",
       "      <td>38</td>\n",
       "    </tr>\n",
       "    <tr>\n",
       "      <th>3</th>\n",
       "      <td>Daniela</td>\n",
       "      <td>Engineer</td>\n",
       "      <td>Pink</td>\n",
       "      <td>26</td>\n",
       "    </tr>\n",
       "    <tr>\n",
       "      <th>4</th>\n",
       "      <td>Erykah</td>\n",
       "      <td>Marketing</td>\n",
       "      <td>Blue</td>\n",
       "      <td>24</td>\n",
       "    </tr>\n",
       "  </tbody>\n",
       "</table>\n",
       "</div>"
      ],
      "text/plain": [
       "      Name      Job Title Favorite Color  Age\n",
       "0    Alice            CEO          Green   47\n",
       "1      Bob  Store Manager         Yellow   35\n",
       "2      Cai         Writer         Orange   38\n",
       "3  Daniela       Engineer           Pink   26\n",
       "4   Erykah      Marketing           Blue   24"
      ]
     },
     "execution_count": 24,
     "metadata": {},
     "output_type": "execute_result"
    }
   ],
   "source": [
    "columns = ['Name', 'Job Title', 'Favorite Color', 'Age']\n",
    "\n",
    "data = [\n",
    "    ['Alice', 'CEO', 'Green', 47],\n",
    "    ['Bob', 'Store Manager', 'Yellow', 35],\n",
    "    ['Cai', 'Writer', 'Orange', 38],\n",
    "    ['Daniela', 'Engineer', 'Pink', 26],\n",
    "    ['Erykah', 'Marketing', 'Blue', 24]\n",
    "]\n",
    "\n",
    "survey = pd.DataFrame(data, columns=columns)\n",
    "survey"
   ]
  },
  {
   "cell_type": "markdown",
   "metadata": {},
   "source": [
    "**Example:** Defining a `DataFrame` via a named collection of attributes (columns):"
   ]
  },
  {
   "cell_type": "code",
   "execution_count": 2,
   "metadata": {},
   "outputs": [
    {
     "data": {
      "text/html": [
       "<div>\n",
       "<style scoped>\n",
       "    .dataframe tbody tr th:only-of-type {\n",
       "        vertical-align: middle;\n",
       "    }\n",
       "\n",
       "    .dataframe tbody tr th {\n",
       "        vertical-align: top;\n",
       "    }\n",
       "\n",
       "    .dataframe thead th {\n",
       "        text-align: right;\n",
       "    }\n",
       "</style>\n",
       "<table border=\"1\" class=\"dataframe\">\n",
       "  <thead>\n",
       "    <tr style=\"text-align: right;\">\n",
       "      <th></th>\n",
       "      <th>Name</th>\n",
       "      <th>Job Title</th>\n",
       "      <th>Favorite Color</th>\n",
       "      <th>Age</th>\n",
       "    </tr>\n",
       "  </thead>\n",
       "  <tbody>\n",
       "    <tr>\n",
       "      <th>0</th>\n",
       "      <td>Alice</td>\n",
       "      <td>CEO</td>\n",
       "      <td>Green</td>\n",
       "      <td>47</td>\n",
       "    </tr>\n",
       "    <tr>\n",
       "      <th>1</th>\n",
       "      <td>Bob</td>\n",
       "      <td>Store Manager</td>\n",
       "      <td>Yellow</td>\n",
       "      <td>35</td>\n",
       "    </tr>\n",
       "    <tr>\n",
       "      <th>2</th>\n",
       "      <td>Cai</td>\n",
       "      <td>Writer</td>\n",
       "      <td>Orange</td>\n",
       "      <td>38</td>\n",
       "    </tr>\n",
       "    <tr>\n",
       "      <th>3</th>\n",
       "      <td>Daniela</td>\n",
       "      <td>Engineer</td>\n",
       "      <td>Pink</td>\n",
       "      <td>26</td>\n",
       "    </tr>\n",
       "    <tr>\n",
       "      <th>4</th>\n",
       "      <td>Erykah</td>\n",
       "      <td>Marketing</td>\n",
       "      <td>Blue</td>\n",
       "      <td>24</td>\n",
       "    </tr>\n",
       "  </tbody>\n",
       "</table>\n",
       "</div>"
      ],
      "text/plain": [
       "      Name      Job Title Favorite Color  Age\n",
       "0    Alice            CEO          Green   47\n",
       "1      Bob  Store Manager         Yellow   35\n",
       "2      Cai         Writer         Orange   38\n",
       "3  Daniela       Engineer           Pink   26\n",
       "4   Erykah      Marketing           Blue   24"
      ]
     },
     "execution_count": 2,
     "metadata": {},
     "output_type": "execute_result"
    }
   ],
   "source": [
    "column_dict = {\n",
    "    'Name': ['Alice', 'Bob', 'Cai', 'Daniela', 'Erykah'],\n",
    "    'Job Title': ['CEO', 'Store Manager', 'Writer', 'Engineer', 'Marketing'],\n",
    "    'Favorite Color': ['Green', 'Yellow', 'Orange', 'Pink', 'Blue'],\n",
    "    'Age': [47, 35, 38, 26, 24]\n",
    "}\n",
    "\n",
    "survey = pd.DataFrame(column_dict)\n",
    "survey"
   ]
  },
  {
   "cell_type": "markdown",
   "metadata": {},
   "source": [
    "### Reading tables into Pandas from external sources\n",
    "\n",
    "* `read_csv` is the primary Pandas function used to read `DataFrames` from `csv` files on disk.\n",
    "* Other Pandas functions that read tables from other sources include:\n",
    "    - `read_excel` parses Excel workbooks into dictionaries of `DataFrames` keyed by worksheet name.\n",
    "    - `read_html` parses tables on a given html page into a list of `DataFrames`.\n",
    "    - `read_sql` reads tabular data from a database using structured query language.\n",
    "    - `read_json` parses JSON record files into a `DataFrame`.   \n",
    "    \n",
    "*Remark:* These parsing functions have copious options. See the Pandas [documentation](https://pandas.pydata.org/pandas-docs/stable/user_guide/io.html) for details."
   ]
  },
  {
   "cell_type": "code",
   "execution_count": 4,
   "metadata": {},
   "outputs": [
    {
     "data": {
      "text/html": [
       "<div>\n",
       "<style scoped>\n",
       "    .dataframe tbody tr th:only-of-type {\n",
       "        vertical-align: middle;\n",
       "    }\n",
       "\n",
       "    .dataframe tbody tr th {\n",
       "        vertical-align: top;\n",
       "    }\n",
       "\n",
       "    .dataframe thead th {\n",
       "        text-align: right;\n",
       "    }\n",
       "</style>\n",
       "<table border=\"1\" class=\"dataframe\">\n",
       "  <thead>\n",
       "    <tr style=\"text-align: right;\">\n",
       "      <th></th>\n",
       "      <th>Name</th>\n",
       "      <th>Job Title</th>\n",
       "      <th>Favorite Color</th>\n",
       "      <th>Age</th>\n",
       "    </tr>\n",
       "  </thead>\n",
       "  <tbody>\n",
       "    <tr>\n",
       "      <th>0</th>\n",
       "      <td>Alice</td>\n",
       "      <td>CEO</td>\n",
       "      <td>Green</td>\n",
       "      <td>47</td>\n",
       "    </tr>\n",
       "    <tr>\n",
       "      <th>1</th>\n",
       "      <td>Bob</td>\n",
       "      <td>Store Manager</td>\n",
       "      <td>Yellow</td>\n",
       "      <td>35</td>\n",
       "    </tr>\n",
       "    <tr>\n",
       "      <th>2</th>\n",
       "      <td>Cai</td>\n",
       "      <td>Writer</td>\n",
       "      <td>Orange</td>\n",
       "      <td>38</td>\n",
       "    </tr>\n",
       "    <tr>\n",
       "      <th>3</th>\n",
       "      <td>Daniela</td>\n",
       "      <td>Engineer</td>\n",
       "      <td>Pink</td>\n",
       "      <td>26</td>\n",
       "    </tr>\n",
       "    <tr>\n",
       "      <th>4</th>\n",
       "      <td>Erykah</td>\n",
       "      <td>Marketing</td>\n",
       "      <td>Blue</td>\n",
       "      <td>24</td>\n",
       "    </tr>\n",
       "  </tbody>\n",
       "</table>\n",
       "</div>"
      ],
      "text/plain": [
       "      Name      Job Title Favorite Color  Age\n",
       "0    Alice            CEO          Green   47\n",
       "1      Bob  Store Manager         Yellow   35\n",
       "2      Cai         Writer         Orange   38\n",
       "3  Daniela       Engineer           Pink   26\n",
       "4   Erykah      Marketing           Blue   24"
      ]
     },
     "execution_count": 4,
     "metadata": {},
     "output_type": "execute_result"
    }
   ],
   "source": [
    "pd.read_csv('survey.csv')"
   ]
  },
  {
   "cell_type": "markdown",
   "metadata": {},
   "source": [
    "Writing a `DataFrame` to a `csv` file is done using the `DataFrame` method `to_csv`."
   ]
  },
  {
   "cell_type": "markdown",
   "metadata": {},
   "source": [
    "## The anatomy of a `DataFrame`\n",
    "\n",
    "`Pandas` tabular data structure is called a `DataFrame`; they are built upon two-dimensional `numpy` arrays. The data in these tables are accessed using labels (e.g. columns and indices) and manipulated with a large library of useful table methods.\n",
    "\n",
    "The defining table properties given in the section above correspond to the following `DataFrame` properties, each of which will be reviewed in more detail below.\n",
    "\n",
    "1. The observations of a `DataFrame` are labeled by the `index`.\n",
    "1. The columns of a `DataFrame` are labeled by `columns`.\n",
    "1. A column of a `DataFrame` is a one dimensional array index by the `index` of the table (called a `Series`).\n",
    "1. A row of a `DataFrame` is a one dimensional array indexed by the `columns` of the table (called a `Series`)."
   ]
  },
  {
   "cell_type": "markdown",
   "metadata": {},
   "source": [
    "### Basic Properties\n",
    "\n",
    "A number of basic properties of `DataFrame` are stored as attributes. \n",
    "\n",
    "The number of rows and number of columns of a `DataFrame` are returned as a tuple by the property `shape`. Note that the `survey` table has 5 rows and 4 columns."
   ]
  },
  {
   "cell_type": "code",
   "execution_count": 26,
   "metadata": {},
   "outputs": [
    {
     "data": {
      "text/plain": [
       "(5, 4)"
      ]
     },
     "execution_count": 26,
     "metadata": {},
     "output_type": "execute_result"
    }
   ],
   "source": [
    "survey.shape"
   ]
  },
  {
   "cell_type": "markdown",
   "metadata": {},
   "source": [
    "The index and columns of a `DataFrame` are accessed using attributes of the same name. A few relevant observations of tabular labels in `Pandas`:\n",
    "1. The index and columns of a `DataFrame` are both `Pandas` *index* objects,\n",
    "1. index objects are immutable `numpy` arrays,\n",
    "1. index/column attributes can be *reassigned*,\n",
    "1. while `DataFrame` indices default to row-number, an index can generally contain *anything*."
   ]
  },
  {
   "cell_type": "code",
   "execution_count": 29,
   "metadata": {},
   "outputs": [
    {
     "data": {
      "text/plain": [
       "Index(['Name', 'Job Title', 'Favorite Color', 'Age'], dtype='object')"
      ]
     },
     "execution_count": 29,
     "metadata": {},
     "output_type": "execute_result"
    }
   ],
   "source": [
    "survey.columns"
   ]
  },
  {
   "cell_type": "code",
   "execution_count": 37,
   "metadata": {},
   "outputs": [
    {
     "data": {
      "text/plain": [
       "RangeIndex(start=0, stop=5, step=1)"
      ]
     },
     "execution_count": 37,
     "metadata": {},
     "output_type": "execute_result"
    }
   ],
   "source": [
    "survey.index"
   ]
  },
  {
   "cell_type": "code",
   "execution_count": 38,
   "metadata": {},
   "outputs": [
    {
     "data": {
      "text/html": [
       "<div>\n",
       "<style scoped>\n",
       "    .dataframe tbody tr th:only-of-type {\n",
       "        vertical-align: middle;\n",
       "    }\n",
       "\n",
       "    .dataframe tbody tr th {\n",
       "        vertical-align: top;\n",
       "    }\n",
       "\n",
       "    .dataframe thead th {\n",
       "        text-align: right;\n",
       "    }\n",
       "</style>\n",
       "<table border=\"1\" class=\"dataframe\">\n",
       "  <thead>\n",
       "    <tr style=\"text-align: right;\">\n",
       "      <th></th>\n",
       "      <th>Name</th>\n",
       "      <th>Job Title</th>\n",
       "      <th>Favorite Color</th>\n",
       "      <th>Age</th>\n",
       "    </tr>\n",
       "  </thead>\n",
       "  <tbody>\n",
       "    <tr>\n",
       "      <th>a</th>\n",
       "      <td>Alice</td>\n",
       "      <td>CEO</td>\n",
       "      <td>Green</td>\n",
       "      <td>47</td>\n",
       "    </tr>\n",
       "    <tr>\n",
       "      <th>b</th>\n",
       "      <td>Bob</td>\n",
       "      <td>Store Manager</td>\n",
       "      <td>Yellow</td>\n",
       "      <td>35</td>\n",
       "    </tr>\n",
       "    <tr>\n",
       "      <th>c</th>\n",
       "      <td>Cai</td>\n",
       "      <td>Writer</td>\n",
       "      <td>Orange</td>\n",
       "      <td>38</td>\n",
       "    </tr>\n",
       "    <tr>\n",
       "      <th>d</th>\n",
       "      <td>Daniela</td>\n",
       "      <td>Engineer</td>\n",
       "      <td>Pink</td>\n",
       "      <td>26</td>\n",
       "    </tr>\n",
       "    <tr>\n",
       "      <th>e</th>\n",
       "      <td>Erykah</td>\n",
       "      <td>Marketing</td>\n",
       "      <td>Blue</td>\n",
       "      <td>24</td>\n",
       "    </tr>\n",
       "  </tbody>\n",
       "</table>\n",
       "</div>"
      ],
      "text/plain": [
       "      Name      Job Title Favorite Color  Age\n",
       "a    Alice            CEO          Green   47\n",
       "b      Bob  Store Manager         Yellow   35\n",
       "c      Cai         Writer         Orange   38\n",
       "d  Daniela       Engineer           Pink   26\n",
       "e   Erykah      Marketing           Blue   24"
      ]
     },
     "execution_count": 38,
     "metadata": {},
     "output_type": "execute_result"
    }
   ],
   "source": [
    "survey.index = 'a b c d e'.split()\n",
    "survey"
   ]
  },
  {
   "cell_type": "markdown",
   "metadata": {},
   "source": [
    "### Row and column elements: `Series` objects\n",
    "\n",
    "The rows and columns of a `DataFrame` are represented using a `Pandas.Series`, a class of 1-dimensional arrays. `Series` are 1-dimensional `numpy` arrays with labels accessed through an `index` attribute.\n",
    "\n",
    "1. A container of `Series` objects may be passed to the `DataFrame` constructor to create a table.\n",
    "1. Selecting a single row/column of a `DataFrame` returns a `Series`.\n",
    "\n",
    "The `Series` constructor accepts a 1-dimensional container of data, along with an optional index:"
   ]
  },
  {
   "cell_type": "code",
   "execution_count": 41,
   "metadata": {},
   "outputs": [
    {
     "data": {
      "text/plain": [
       "a    2\n",
       "b    4\n",
       "c    6\n",
       "d    8\n",
       "dtype: int64"
      ]
     },
     "execution_count": 41,
     "metadata": {},
     "output_type": "execute_result"
    }
   ],
   "source": [
    "ser = pd.Series([2,4,6,8], index=['a', 'b', 'c', 'd'])\n",
    "ser"
   ]
  },
  {
   "cell_type": "code",
   "execution_count": 42,
   "metadata": {},
   "outputs": [
    {
     "data": {
      "text/plain": [
       "Index(['a', 'b', 'c', 'd'], dtype='object')"
      ]
     },
     "execution_count": 42,
     "metadata": {},
     "output_type": "execute_result"
    }
   ],
   "source": [
    "ser.index"
   ]
  },
  {
   "cell_type": "code",
   "execution_count": 43,
   "metadata": {},
   "outputs": [
    {
     "data": {
      "text/plain": [
       "(4,)"
      ]
     },
     "execution_count": 43,
     "metadata": {},
     "output_type": "execute_result"
    }
   ],
   "source": [
    "ser.shape"
   ]
  },
  {
   "cell_type": "markdown",
   "metadata": {},
   "source": [
    "Creating a `DataFrame` using a collection of `Series` is similar to any container; notice the columns are passed into the `Series` constructors as opposed to the `DataFrame` constructor!"
   ]
  },
  {
   "cell_type": "code",
   "execution_count": 46,
   "metadata": {},
   "outputs": [
    {
     "data": {
      "text/html": [
       "<div>\n",
       "<style scoped>\n",
       "    .dataframe tbody tr th:only-of-type {\n",
       "        vertical-align: middle;\n",
       "    }\n",
       "\n",
       "    .dataframe tbody tr th {\n",
       "        vertical-align: top;\n",
       "    }\n",
       "\n",
       "    .dataframe thead th {\n",
       "        text-align: right;\n",
       "    }\n",
       "</style>\n",
       "<table border=\"1\" class=\"dataframe\">\n",
       "  <thead>\n",
       "    <tr style=\"text-align: right;\">\n",
       "      <th></th>\n",
       "      <th>Name</th>\n",
       "      <th>Job Title</th>\n",
       "      <th>Favorite Color</th>\n",
       "      <th>Age</th>\n",
       "    </tr>\n",
       "  </thead>\n",
       "  <tbody>\n",
       "    <tr>\n",
       "      <th>a</th>\n",
       "      <td>Alice</td>\n",
       "      <td>CEO</td>\n",
       "      <td>Green</td>\n",
       "      <td>47</td>\n",
       "    </tr>\n",
       "    <tr>\n",
       "      <th>b</th>\n",
       "      <td>Bob</td>\n",
       "      <td>Store Manager</td>\n",
       "      <td>Yellow</td>\n",
       "      <td>35</td>\n",
       "    </tr>\n",
       "    <tr>\n",
       "      <th>c</th>\n",
       "      <td>Cai</td>\n",
       "      <td>Writer</td>\n",
       "      <td>Orange</td>\n",
       "      <td>38</td>\n",
       "    </tr>\n",
       "    <tr>\n",
       "      <th>d</th>\n",
       "      <td>Daniela</td>\n",
       "      <td>Engineer</td>\n",
       "      <td>Pink</td>\n",
       "      <td>26</td>\n",
       "    </tr>\n",
       "    <tr>\n",
       "      <th>e</th>\n",
       "      <td>Erykah</td>\n",
       "      <td>Marketing</td>\n",
       "      <td>Blue</td>\n",
       "      <td>24</td>\n",
       "    </tr>\n",
       "  </tbody>\n",
       "</table>\n",
       "</div>"
      ],
      "text/plain": [
       "      Name      Job Title Favorite Color  Age\n",
       "a    Alice            CEO          Green   47\n",
       "b      Bob  Store Manager         Yellow   35\n",
       "c      Cai         Writer         Orange   38\n",
       "d  Daniela       Engineer           Pink   26\n",
       "e   Erykah      Marketing           Blue   24"
      ]
     },
     "execution_count": 46,
     "metadata": {},
     "output_type": "execute_result"
    }
   ],
   "source": [
    "columns = ['Name', 'Job Title', 'Favorite Color', 'Age']\n",
    "\n",
    "data = [\n",
    "    pd.Series(['Alice', 'CEO', 'Green', 47], index=columns),\n",
    "    pd.Series(['Bob', 'Store Manager', 'Yellow', 35], index=columns),\n",
    "    pd.Series(['Cai', 'Writer', 'Orange', 38], index=columns),\n",
    "    pd.Series(['Daniela', 'Engineer', 'Pink', 26], index=columns),\n",
    "    pd.Series(['Erykah', 'Marketing', 'Blue', 24], index=columns)\n",
    "]\n",
    "\n",
    "survey = pd.DataFrame(data, index='a b c d e'.split())\n",
    "survey"
   ]
  },
  {
   "cell_type": "markdown",
   "metadata": {},
   "source": [
    "### Selecting rows with `loc` and columns with `[]`\n",
    "\n",
    "The most basic task of data selection from a table is extracting a row or column. Given a `Pandas.DataFrame` named `df`, \n",
    "1. `df.loc[idx]` selects the row indexed by the value `idx`,\n",
    "1. `df[col]` selects the column labeled by the value `col`.\n",
    "Each selection results in a `Pandas.Series` object indexed by the columns/index of `df` respectively.\n",
    "\n",
    "*Note 1:* `df.loc` is not a `DataFrame` method, but rather a `Pandas` *indexer object*. As such, it uses square brackets.\n",
    "\n",
    "*Note 2:* `DataFrame` objects are column-oriented by default; most tabular computations (e.g. statistics) are done on columns. As such, the list-like `__getitem__` syntax takes in a column name and returns a column."
   ]
  },
  {
   "cell_type": "markdown",
   "metadata": {},
   "source": [
    "**Example:** Selecting observation `a` using `loc` results in a `Series` indexed by the columns of `survey`."
   ]
  },
  {
   "cell_type": "code",
   "execution_count": 47,
   "metadata": {},
   "outputs": [
    {
     "data": {
      "text/plain": [
       "Name              Alice\n",
       "Job Title           CEO\n",
       "Favorite Color    Green\n",
       "Age                  47\n",
       "Name: a, dtype: object"
      ]
     },
     "execution_count": 47,
     "metadata": {},
     "output_type": "execute_result"
    }
   ],
   "source": [
    "survey.loc['a']"
   ]
  },
  {
   "cell_type": "markdown",
   "metadata": {},
   "source": [
    "**Example:** Selecting the `Name` column using `[]` results in a `Series` indexed by the index of `survey`. "
   ]
  },
  {
   "cell_type": "code",
   "execution_count": 48,
   "metadata": {},
   "outputs": [
    {
     "data": {
      "text/plain": [
       "a      Alice\n",
       "b        Bob\n",
       "c        Cai\n",
       "d    Daniela\n",
       "e     Erykah\n",
       "Name: Name, dtype: object"
      ]
     },
     "execution_count": 48,
     "metadata": {},
     "output_type": "execute_result"
    }
   ],
   "source": [
    "survey['Name']"
   ]
  }
 ],
 "metadata": {
  "celltoolbar": "Tags",
  "kernelspec": {
   "display_name": "Python 3 (ipykernel)",
   "language": "python",
   "name": "python3"
  },
  "language_info": {
   "codemirror_mode": {
    "name": "ipython",
    "version": 3
   },
   "file_extension": ".py",
   "mimetype": "text/x-python",
   "name": "python",
   "nbconvert_exporter": "python",
   "pygments_lexer": "ipython3",
   "version": "3.9.7"
  }
 },
 "nbformat": 4,
 "nbformat_minor": 2
}
