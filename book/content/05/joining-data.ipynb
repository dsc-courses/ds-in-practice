{
 "cells": [
  {
   "cell_type": "code",
   "execution_count": 91,
   "metadata": {
    "tags": [
     "remove_cell"
    ]
   },
   "outputs": [],
   "source": [
    "import numpy as np\n",
    "import pandas as pd\n",
    "\n",
    "pd.set_option('display.max_rows', 7)\n",
    "\n",
    "pop_counties = pd.read_csv('data/county_population.csv')\n",
    "inc_counties = pd.read_csv('data/county_incomes.csv')\n",
    "cities = pd.read_csv('data/city_incomes.csv')"
   ]
  },
  {
   "cell_type": "markdown",
   "metadata": {},
   "source": [
    "# Combining Data: Attributes\n",
    "---\n",
    "\n",
    "## Combining different measurements over the same individuals\n",
    "\n",
    "Adding additional attributes to an existing dataset is often necessary to improve the description of the data generating process and answer the questions being asked of the data. In its most simple form, such a task consists of tables of the same individuals, with different attributes, collected for different purposes.\n",
    "\n",
    "Such a process simply needs to add the columns of the second table to the first table. However, this process only works when the rows of the two tables correspond to the same individuals. Assuming a one-to-one correspondence between the individuals in the two tables, identified by their index, combining the columns of the two tables requires two steps:\n",
    "* sorting each table by their respective indexes (i.e. lining them up),\n",
    "* iterating through the (common) index of each table, combining the attributes of each row into a new table.\n",
    "\n",
    "*Remark 1:* This procedure is implicitly done by Pandas whenever setting a Series as a new column of an existing DataFrame.\n",
    "\n",
    "*Remark 2:* Understanding the internals of this procedure is important for both being able to debug performance issues, as well as implement custom procedures when the correspondence between the rows of the tables is not obvious.\n",
    "\n",
    "This procedure is known as **joining** or **merging** tables (column-wise). The correspondence between the rows (e.g. via a shared index) is called a **join key**.\n",
    "\n",
    "**Example:** Below, two tables contain characteristics of California counties obtained from the [US Census](http://factfinder2.census.gov/): one contains a population attribute, the other contains the median household income. The join key is the 'County' column.\n",
    "\n",
    "<img src=\"imgs/join_simple.png\"/>"
   ]
  },
  {
   "cell_type": "markdown",
   "metadata": {},
   "source": [
    "### Joining data column-wise\n",
    "\n",
    "Pandas has multiple ways of executing a (column-wise) join of DataFrames. Below outlines each and their relative advantages. In spite of the options, one should use the `merge` method whenever possible!\n",
    "\n",
    "\n",
    "**Join Technique 1: column(s) assignment** The most simple way of joining the columns of two tables along a shared index is by column(s) assignment. If `df1` and `df2` have indexes in one-to-one correspondence, they can be joined via:\n",
    "```\n",
    "df1[df2.columns] = df2\n",
    "```\n",
    "This technique is simple and space efficient, since column assignment modifies the left-hand DataFrame in-place. However it has many disadvantages:\n",
    "\n",
    "|Advantages|Disadvantages|\n",
    "|---|---|\n",
    "|Space Efficient|Doesn't work with the method chaining|\n",
    "|---|Joining more than two DataFrames requires multiple lines|\n",
    "|---|Works only when indexes are in one-to-one correspondence|\n",
    "|---|Sorts the two DataFrames by index, even if already aligned|\n",
    "\n",
    "**Join Technique 2 (`concat`):** The Pandas function `concat` column-wise joins a list of DataFrames by a shared index, with several convenient keyword arguments. If `df1,...,dfN` are DataFrames, then the columns of these DataFrames can be joined by passing them to `concat` in a list:\n",
    "```\n",
    "pd.concat([df1, ..., dfN], axis=1)\n",
    "```\n",
    "This function has many advantages over column assignment:\n",
    "\n",
    "|Advantages|Disadvantages|\n",
    "|---|---|\n",
    "|Can easily join many DataFrames|Doesn't work with method chaining|\n",
    "|Indexes don't need to be 1-1 correspondence|The DataFrames must of a common index|\n",
    "|Can skip sorting indexes by setting `ignore_index=True`||\n",
    "\n",
    "**Join Technique 3 (`merge`):** The `merge` method is the most flexible joining technique in Pandas. By default, it joins the columns of two DataFrames on common columns. If `df1,...,dfN` are DataFrames with shared columns that identify observations between them, the DataFrames can be joined by chaining together successive `merge` calls:\n",
    "```\n",
    "df1.merge(df2).merge(df3)...merge(dfN)\n",
    "```\n",
    "If the DataFrames have a shared index, then `merge` is called with the `left_index/right_index=True` keyword argument.\n",
    "\n",
    "|Advantages|Disadvantages|\n",
    "|---|---|\n",
    "|Works with method chaining|Can't pass an arbitrary list of DataFrames|\n",
    "|Join key doesn't need to be in index|Can't skip sorting by the join key|\n",
    "|Rows don't need to be 1-1 correspondence||"
   ]
  },
  {
   "cell_type": "markdown",
   "metadata": {},
   "source": [
    "**Example:**"
   ]
  },
  {
   "cell_type": "code",
   "execution_count": 4,
   "metadata": {},
   "outputs": [
    {
     "data": {
      "text/html": [
       "<div>\n",
       "<style scoped>\n",
       "    .dataframe tbody tr th:only-of-type {\n",
       "        vertical-align: middle;\n",
       "    }\n",
       "\n",
       "    .dataframe tbody tr th {\n",
       "        vertical-align: top;\n",
       "    }\n",
       "\n",
       "    .dataframe thead th {\n",
       "        text-align: right;\n",
       "    }\n",
       "</style>\n",
       "<table border=\"1\" class=\"dataframe\">\n",
       "  <thead>\n",
       "    <tr style=\"text-align: right;\">\n",
       "      <th></th>\n",
       "      <th>County</th>\n",
       "      <th>Population</th>\n",
       "      <th>Income</th>\n",
       "    </tr>\n",
       "  </thead>\n",
       "  <tbody>\n",
       "    <tr>\n",
       "      <th>0</th>\n",
       "      <td>Calaveras</td>\n",
       "      <td>44921</td>\n",
       "      <td>54936</td>\n",
       "    </tr>\n",
       "    <tr>\n",
       "      <th>1</th>\n",
       "      <td>San Diego</td>\n",
       "      <td>3183143</td>\n",
       "      <td>63996</td>\n",
       "    </tr>\n",
       "    <tr>\n",
       "      <th>2</th>\n",
       "      <td>San Joaquin</td>\n",
       "      <td>701050</td>\n",
       "      <td>53253</td>\n",
       "    </tr>\n",
       "    <tr>\n",
       "      <th>...</th>\n",
       "      <td>...</td>\n",
       "      <td>...</td>\n",
       "      <td>...</td>\n",
       "    </tr>\n",
       "    <tr>\n",
       "      <th>55</th>\n",
       "      <td>Marin</td>\n",
       "      <td>256802</td>\n",
       "      <td>91529</td>\n",
       "    </tr>\n",
       "    <tr>\n",
       "      <th>56</th>\n",
       "      <td>Monterey</td>\n",
       "      <td>424927</td>\n",
       "      <td>58582</td>\n",
       "    </tr>\n",
       "    <tr>\n",
       "      <th>57</th>\n",
       "      <td>San Mateo</td>\n",
       "      <td>739837</td>\n",
       "      <td>91421</td>\n",
       "    </tr>\n",
       "  </tbody>\n",
       "</table>\n",
       "<p>58 rows × 3 columns</p>\n",
       "</div>"
      ],
      "text/plain": [
       "         County  Population  Income\n",
       "0     Calaveras       44921   54936\n",
       "1     San Diego     3183143   63996\n",
       "2   San Joaquin      701050   53253\n",
       "..          ...         ...     ...\n",
       "55        Marin      256802   91529\n",
       "56     Monterey      424927   58582\n",
       "57    San Mateo      739837   91421\n",
       "\n",
       "[58 rows x 3 columns]"
      ]
     },
     "execution_count": 4,
     "metadata": {},
     "output_type": "execute_result"
    }
   ],
   "source": [
    "counties = pop_counties.merge(inc_counties)\n",
    "counties"
   ]
  },
  {
   "cell_type": "markdown",
   "metadata": {},
   "source": [
    "Check the relative sizes of the inputs confirm every row has its expected match. The input tables exactly one entry for each of the 58 California counties; the joined table should have one row per county and three columns."
   ]
  },
  {
   "cell_type": "code",
   "execution_count": 9,
   "metadata": {},
   "outputs": [
    {
     "name": "stdout",
     "output_type": "stream",
     "text": [
      "(58, 2)\n",
      "(58, 2)\n",
      "(58, 3)\n"
     ]
    }
   ],
   "source": [
    "print(pop_counties.shape, inc_counties.shape, counties.shape, sep='\\n')"
   ]
  },
  {
   "cell_type": "markdown",
   "metadata": {},
   "source": [
    "*Remark:* this simple check can save hours of debugging!"
   ]
  },
  {
   "cell_type": "markdown",
   "metadata": {},
   "source": [
    "### Join types\n",
    "\n",
    "Not uncommonly, when joining two tables, the observations don't perfectly align. In these cases, care must be taken with the approach to joining the observations. There are three possibilities:\n",
    "1. the observations are in one-to-one correspondence,\n",
    "1. one of the tables contains observations not contained in the other,\n",
    "1. both of the tables contain observations missing in the other.\n",
    "\n",
    "In the first case, there is no ambiguity in combining the two tables. However, in the latter two cases, one has to decide whether to retain the observations that are present in only one of the tables. These cases are enumerated in the following *join types*.\n",
    "\n",
    "Given two tables, the possible join types of a combined table are:\n",
    "* An **inner join** keeps *only* the observations with a matched join key,\n",
    "* An **outer join** keeps all observations, even if not-matched,\n",
    "* A **left join** keeps all observations in the left table,\n",
    "* A **right join** keeps all observations in the right table.\n",
    "\n",
    "Below, the join types are illustrated with Venn diagrams; the diagrams overlap if the tables share an observation:\n",
    "![join types](imgs/join_type.png)\n",
    "\n",
    "The default operation is typical as inner join, as is true for the `merge` method."
   ]
  },
  {
   "cell_type": "markdown",
   "metadata": {},
   "source": [
    "**Example:** Suppose the county population table only includes information on counties with populations over 1.5M residents. The inner-join between this partial population table and the full income table will drop income information!\n",
    "\n",
    "The partial population file only contains seven of the 58 counties:"
   ]
  },
  {
   "cell_type": "code",
   "execution_count": 13,
   "metadata": {},
   "outputs": [
    {
     "data": {
      "text/html": [
       "<div>\n",
       "<style scoped>\n",
       "    .dataframe tbody tr th:only-of-type {\n",
       "        vertical-align: middle;\n",
       "    }\n",
       "\n",
       "    .dataframe tbody tr th {\n",
       "        vertical-align: top;\n",
       "    }\n",
       "\n",
       "    .dataframe thead th {\n",
       "        text-align: right;\n",
       "    }\n",
       "</style>\n",
       "<table border=\"1\" class=\"dataframe\">\n",
       "  <thead>\n",
       "    <tr style=\"text-align: right;\">\n",
       "      <th></th>\n",
       "      <th>County</th>\n",
       "      <th>Population</th>\n",
       "    </tr>\n",
       "  </thead>\n",
       "  <tbody>\n",
       "    <tr>\n",
       "      <th>1</th>\n",
       "      <td>San Diego</td>\n",
       "      <td>3183143</td>\n",
       "    </tr>\n",
       "    <tr>\n",
       "      <th>9</th>\n",
       "      <td>Riverside</td>\n",
       "      <td>2266899</td>\n",
       "    </tr>\n",
       "    <tr>\n",
       "      <th>18</th>\n",
       "      <td>Santa Clara</td>\n",
       "      <td>1841569</td>\n",
       "    </tr>\n",
       "    <tr>\n",
       "      <th>24</th>\n",
       "      <td>San Bernardino</td>\n",
       "      <td>2078586</td>\n",
       "    </tr>\n",
       "    <tr>\n",
       "      <th>37</th>\n",
       "      <td>Los Angeles</td>\n",
       "      <td>9974203</td>\n",
       "    </tr>\n",
       "    <tr>\n",
       "      <th>50</th>\n",
       "      <td>Alameda</td>\n",
       "      <td>1559308</td>\n",
       "    </tr>\n",
       "    <tr>\n",
       "      <th>53</th>\n",
       "      <td>Orange</td>\n",
       "      <td>3086331</td>\n",
       "    </tr>\n",
       "  </tbody>\n",
       "</table>\n",
       "</div>"
      ],
      "text/plain": [
       "            County  Population\n",
       "1        San Diego     3183143\n",
       "9        Riverside     2266899\n",
       "18     Santa Clara     1841569\n",
       "24  San Bernardino     2078586\n",
       "37     Los Angeles     9974203\n",
       "50         Alameda     1559308\n",
       "53          Orange     3086331"
      ]
     },
     "execution_count": 13,
     "metadata": {},
     "output_type": "execute_result"
    }
   ],
   "source": [
    "partial_pop = pop_counties.loc[pop_counties['Population'] > 1.5*10**6]\n",
    "partial_pop"
   ]
  },
  {
   "cell_type": "markdown",
   "metadata": {},
   "source": [
    "The inner-join only contains the seven large population counties, even though the income table contains all 58 counties:"
   ]
  },
  {
   "cell_type": "code",
   "execution_count": 14,
   "metadata": {},
   "outputs": [
    {
     "data": {
      "text/html": [
       "<div>\n",
       "<style scoped>\n",
       "    .dataframe tbody tr th:only-of-type {\n",
       "        vertical-align: middle;\n",
       "    }\n",
       "\n",
       "    .dataframe tbody tr th {\n",
       "        vertical-align: top;\n",
       "    }\n",
       "\n",
       "    .dataframe thead th {\n",
       "        text-align: right;\n",
       "    }\n",
       "</style>\n",
       "<table border=\"1\" class=\"dataframe\">\n",
       "  <thead>\n",
       "    <tr style=\"text-align: right;\">\n",
       "      <th></th>\n",
       "      <th>County</th>\n",
       "      <th>Population</th>\n",
       "      <th>Income</th>\n",
       "    </tr>\n",
       "  </thead>\n",
       "  <tbody>\n",
       "    <tr>\n",
       "      <th>0</th>\n",
       "      <td>San Diego</td>\n",
       "      <td>3183143</td>\n",
       "      <td>63996</td>\n",
       "    </tr>\n",
       "    <tr>\n",
       "      <th>1</th>\n",
       "      <td>Riverside</td>\n",
       "      <td>2266899</td>\n",
       "      <td>56592</td>\n",
       "    </tr>\n",
       "    <tr>\n",
       "      <th>2</th>\n",
       "      <td>Santa Clara</td>\n",
       "      <td>1841569</td>\n",
       "      <td>93854</td>\n",
       "    </tr>\n",
       "    <tr>\n",
       "      <th>3</th>\n",
       "      <td>San Bernardino</td>\n",
       "      <td>2078586</td>\n",
       "      <td>54100</td>\n",
       "    </tr>\n",
       "    <tr>\n",
       "      <th>4</th>\n",
       "      <td>Los Angeles</td>\n",
       "      <td>9974203</td>\n",
       "      <td>55870</td>\n",
       "    </tr>\n",
       "    <tr>\n",
       "      <th>5</th>\n",
       "      <td>Alameda</td>\n",
       "      <td>1559308</td>\n",
       "      <td>73775</td>\n",
       "    </tr>\n",
       "    <tr>\n",
       "      <th>6</th>\n",
       "      <td>Orange</td>\n",
       "      <td>3086331</td>\n",
       "      <td>75998</td>\n",
       "    </tr>\n",
       "  </tbody>\n",
       "</table>\n",
       "</div>"
      ],
      "text/plain": [
       "           County  Population  Income\n",
       "0       San Diego     3183143   63996\n",
       "1       Riverside     2266899   56592\n",
       "2     Santa Clara     1841569   93854\n",
       "3  San Bernardino     2078586   54100\n",
       "4     Los Angeles     9974203   55870\n",
       "5         Alameda     1559308   73775\n",
       "6          Orange     3086331   75998"
      ]
     },
     "execution_count": 14,
     "metadata": {},
     "output_type": "execute_result"
    }
   ],
   "source": [
    "partial_pop.merge(inc_counties)"
   ]
  },
  {
   "cell_type": "markdown",
   "metadata": {},
   "source": [
    "A right-join retains all the income values and adds population entries when available; a `NaN` value appears when a corresponding county doesn't appear in the population table:"
   ]
  },
  {
   "cell_type": "code",
   "execution_count": 16,
   "metadata": {},
   "outputs": [
    {
     "data": {
      "text/html": [
       "<div>\n",
       "<style scoped>\n",
       "    .dataframe tbody tr th:only-of-type {\n",
       "        vertical-align: middle;\n",
       "    }\n",
       "\n",
       "    .dataframe tbody tr th {\n",
       "        vertical-align: top;\n",
       "    }\n",
       "\n",
       "    .dataframe thead th {\n",
       "        text-align: right;\n",
       "    }\n",
       "</style>\n",
       "<table border=\"1\" class=\"dataframe\">\n",
       "  <thead>\n",
       "    <tr style=\"text-align: right;\">\n",
       "      <th></th>\n",
       "      <th>County</th>\n",
       "      <th>Population</th>\n",
       "      <th>Income</th>\n",
       "    </tr>\n",
       "  </thead>\n",
       "  <tbody>\n",
       "    <tr>\n",
       "      <th>0</th>\n",
       "      <td>San Diego</td>\n",
       "      <td>3183143.0</td>\n",
       "      <td>63996</td>\n",
       "    </tr>\n",
       "    <tr>\n",
       "      <th>1</th>\n",
       "      <td>Riverside</td>\n",
       "      <td>2266899.0</td>\n",
       "      <td>56592</td>\n",
       "    </tr>\n",
       "    <tr>\n",
       "      <th>2</th>\n",
       "      <td>Santa Clara</td>\n",
       "      <td>1841569.0</td>\n",
       "      <td>93854</td>\n",
       "    </tr>\n",
       "    <tr>\n",
       "      <th>...</th>\n",
       "      <td>...</td>\n",
       "      <td>...</td>\n",
       "      <td>...</td>\n",
       "    </tr>\n",
       "    <tr>\n",
       "      <th>55</th>\n",
       "      <td>San Benito</td>\n",
       "      <td>NaN</td>\n",
       "      <td>67874</td>\n",
       "    </tr>\n",
       "    <tr>\n",
       "      <th>56</th>\n",
       "      <td>Yolo</td>\n",
       "      <td>NaN</td>\n",
       "      <td>55508</td>\n",
       "    </tr>\n",
       "    <tr>\n",
       "      <th>57</th>\n",
       "      <td>Lassen</td>\n",
       "      <td>NaN</td>\n",
       "      <td>53351</td>\n",
       "    </tr>\n",
       "  </tbody>\n",
       "</table>\n",
       "<p>58 rows × 3 columns</p>\n",
       "</div>"
      ],
      "text/plain": [
       "         County  Population  Income\n",
       "0     San Diego   3183143.0   63996\n",
       "1     Riverside   2266899.0   56592\n",
       "2   Santa Clara   1841569.0   93854\n",
       "..          ...         ...     ...\n",
       "55   San Benito         NaN   67874\n",
       "56         Yolo         NaN   55508\n",
       "57       Lassen         NaN   53351\n",
       "\n",
       "[58 rows x 3 columns]"
      ]
     },
     "execution_count": 16,
     "metadata": {},
     "output_type": "execute_result"
    }
   ],
   "source": [
    "partial_pop.merge(inc_counties, how='right')"
   ]
  },
  {
   "cell_type": "markdown",
   "metadata": {},
   "source": [
    "**Example:** Joins in Pandas are *exact* matches between join keys, including a match on the data type. For example, columns with integer columns, with one of them typed as a string, will fail to properly join. These mistakes are hard to spot, as Pandas hides the type of the contents of DataFrames on formating.\n",
    "\n",
    "Defining two dataframes with matching indexes of different types:"
   ]
  },
  {
   "cell_type": "code",
   "execution_count": 35,
   "metadata": {},
   "outputs": [],
   "source": [
    "df_ints = pd.DataFrame({'B': range(0, 6, 2)}, index=[0, 1, 2])\n",
    "df_strs = pd.DataFrame({'C': range(0, 12, 4)}, index='0 1 2'.split())"
   ]
  },
  {
   "cell_type": "markdown",
   "metadata": {},
   "source": [
    "Joining the two DataFrames with an outer-join illustrates the failure to join on index:"
   ]
  },
  {
   "cell_type": "code",
   "execution_count": 46,
   "metadata": {},
   "outputs": [
    {
     "data": {
      "text/html": [
       "<div>\n",
       "<style scoped>\n",
       "    .dataframe tbody tr th:only-of-type {\n",
       "        vertical-align: middle;\n",
       "    }\n",
       "\n",
       "    .dataframe tbody tr th {\n",
       "        vertical-align: top;\n",
       "    }\n",
       "\n",
       "    .dataframe thead th {\n",
       "        text-align: right;\n",
       "    }\n",
       "</style>\n",
       "<table border=\"1\" class=\"dataframe\">\n",
       "  <thead>\n",
       "    <tr style=\"text-align: right;\">\n",
       "      <th></th>\n",
       "      <th>B</th>\n",
       "      <th>C</th>\n",
       "    </tr>\n",
       "  </thead>\n",
       "  <tbody>\n",
       "    <tr>\n",
       "      <th>0</th>\n",
       "      <td>0.0</td>\n",
       "      <td>NaN</td>\n",
       "    </tr>\n",
       "    <tr>\n",
       "      <th>1</th>\n",
       "      <td>2.0</td>\n",
       "      <td>NaN</td>\n",
       "    </tr>\n",
       "    <tr>\n",
       "      <th>2</th>\n",
       "      <td>4.0</td>\n",
       "      <td>NaN</td>\n",
       "    </tr>\n",
       "    <tr>\n",
       "      <th>0</th>\n",
       "      <td>NaN</td>\n",
       "      <td>0.0</td>\n",
       "    </tr>\n",
       "    <tr>\n",
       "      <th>1</th>\n",
       "      <td>NaN</td>\n",
       "      <td>4.0</td>\n",
       "    </tr>\n",
       "    <tr>\n",
       "      <th>2</th>\n",
       "      <td>NaN</td>\n",
       "      <td>8.0</td>\n",
       "    </tr>\n",
       "  </tbody>\n",
       "</table>\n",
       "</div>"
      ],
      "text/plain": [
       "     B    C\n",
       "0  0.0  NaN\n",
       "1  2.0  NaN\n",
       "2  4.0  NaN\n",
       "0  NaN  0.0\n",
       "1  NaN  4.0\n",
       "2  NaN  8.0"
      ]
     },
     "execution_count": 46,
     "metadata": {},
     "output_type": "execute_result"
    }
   ],
   "source": [
    "merged = df_ints.merge(df_strs, right_index=True, left_index=True, how='outer')\n",
    "merged"
   ]
  },
  {
   "cell_type": "markdown",
   "metadata": {},
   "source": [
    "The index of the merged table contains distinct values of both integer and string type:"
   ]
  },
  {
   "cell_type": "code",
   "execution_count": 47,
   "metadata": {},
   "outputs": [
    {
     "data": {
      "text/plain": [
       "Index([0, 1, 2, '0', '1', '2'], dtype='object')"
      ]
     },
     "execution_count": 47,
     "metadata": {},
     "output_type": "execute_result"
    }
   ],
   "source": [
    "merged.index"
   ]
  },
  {
   "cell_type": "markdown",
   "metadata": {},
   "source": [
    "**Example:** By default, `merge` sets the join-key to the set of all common columns between the DataFrames being merged, sometimes leading to unintended consequences when both tables share similar attributes. The join-key can be specified explicitly using the keyword `on`.\n",
    "\n",
    "The DataFrames `df1` and `df2` have different resulting joins when the join key is column 'A' vs. columns ('A', 'B'):"
   ]
  },
  {
   "cell_type": "code",
   "execution_count": 59,
   "metadata": {},
   "outputs": [],
   "source": [
    "df1 = pd.DataFrame({'A': range(3), 'B': range(0, 6, 2)})\n",
    "df2 = pd.DataFrame({'A': range(3), 'B': range(0, 12, 4)})"
   ]
  },
  {
   "cell_type": "code",
   "execution_count": 60,
   "metadata": {},
   "outputs": [
    {
     "data": {
      "text/html": [
       "<div>\n",
       "<style scoped>\n",
       "    .dataframe tbody tr th:only-of-type {\n",
       "        vertical-align: middle;\n",
       "    }\n",
       "\n",
       "    .dataframe tbody tr th {\n",
       "        vertical-align: top;\n",
       "    }\n",
       "\n",
       "    .dataframe thead th {\n",
       "        text-align: right;\n",
       "    }\n",
       "</style>\n",
       "<table border=\"1\" class=\"dataframe\">\n",
       "  <thead>\n",
       "    <tr style=\"text-align: right;\">\n",
       "      <th></th>\n",
       "      <th>A</th>\n",
       "      <th>B</th>\n",
       "    </tr>\n",
       "  </thead>\n",
       "  <tbody>\n",
       "    <tr>\n",
       "      <th>0</th>\n",
       "      <td>0</td>\n",
       "      <td>0</td>\n",
       "    </tr>\n",
       "  </tbody>\n",
       "</table>\n",
       "</div>"
      ],
      "text/plain": [
       "   A  B\n",
       "0  0  0"
      ]
     },
     "execution_count": 60,
     "metadata": {},
     "output_type": "execute_result"
    }
   ],
   "source": [
    "df1.merge(df2)"
   ]
  },
  {
   "cell_type": "code",
   "execution_count": 61,
   "metadata": {},
   "outputs": [
    {
     "data": {
      "text/html": [
       "<div>\n",
       "<style scoped>\n",
       "    .dataframe tbody tr th:only-of-type {\n",
       "        vertical-align: middle;\n",
       "    }\n",
       "\n",
       "    .dataframe tbody tr th {\n",
       "        vertical-align: top;\n",
       "    }\n",
       "\n",
       "    .dataframe thead th {\n",
       "        text-align: right;\n",
       "    }\n",
       "</style>\n",
       "<table border=\"1\" class=\"dataframe\">\n",
       "  <thead>\n",
       "    <tr style=\"text-align: right;\">\n",
       "      <th></th>\n",
       "      <th>A</th>\n",
       "      <th>B_1</th>\n",
       "      <th>B_2</th>\n",
       "    </tr>\n",
       "  </thead>\n",
       "  <tbody>\n",
       "    <tr>\n",
       "      <th>0</th>\n",
       "      <td>0</td>\n",
       "      <td>0</td>\n",
       "      <td>0</td>\n",
       "    </tr>\n",
       "    <tr>\n",
       "      <th>1</th>\n",
       "      <td>1</td>\n",
       "      <td>2</td>\n",
       "      <td>4</td>\n",
       "    </tr>\n",
       "    <tr>\n",
       "      <th>2</th>\n",
       "      <td>2</td>\n",
       "      <td>4</td>\n",
       "      <td>8</td>\n",
       "    </tr>\n",
       "  </tbody>\n",
       "</table>\n",
       "</div>"
      ],
      "text/plain": [
       "   A  B_1  B_2\n",
       "0  0    0    0\n",
       "1  1    2    4\n",
       "2  2    4    8"
      ]
     },
     "execution_count": 61,
     "metadata": {},
     "output_type": "execute_result"
    }
   ],
   "source": [
    "df1.merge(df2, on='A', suffixes=['_1','_2'])"
   ]
  },
  {
   "cell_type": "markdown",
   "metadata": {},
   "source": [
    "*Remark:* The `suffixes` argument decorates the duplicate column names with which table the column originated from."
   ]
  },
  {
   "cell_type": "markdown",
   "metadata": {},
   "source": [
    "**Example:** When joining new attributes to a dataset under investigation, the additional information isn't always available for the complete population. For example, when investigating the incomes by California county, suppose one attempts to join demographic information (such as population size) to the incomes dataset. However, if this demographic information is only available for counties with a large population, the merge dataset will exhibit significant bias:"
   ]
  },
  {
   "cell_type": "code",
   "execution_count": 68,
   "metadata": {},
   "outputs": [],
   "source": [
    "large_pop = pop_counties.loc[pop_counties['Population'] > 200000]"
   ]
  },
  {
   "cell_type": "markdown",
   "metadata": {},
   "source": [
    "Upon merging the incomes with the demographics, an *inner-join* drops all counties of small size. The resulting average income is quite different than the average income across all counties:"
   ]
  },
  {
   "cell_type": "code",
   "execution_count": 73,
   "metadata": {},
   "outputs": [
    {
     "data": {
      "text/plain": [
       "63668.57142857143"
      ]
     },
     "execution_count": 73,
     "metadata": {},
     "output_type": "execute_result"
    }
   ],
   "source": [
    "inc_counties.merge(large_pop)['Income'].mean()"
   ]
  },
  {
   "cell_type": "code",
   "execution_count": 74,
   "metadata": {},
   "outputs": [
    {
     "data": {
      "text/plain": [
       "56034.362068965514"
      ]
     },
     "execution_count": 74,
     "metadata": {},
     "output_type": "execute_result"
    }
   ],
   "source": [
    "inc_counties['Income'].mean()"
   ]
  },
  {
   "cell_type": "markdown",
   "metadata": {},
   "source": [
    "By using an left-join, on can avoid dropping these observations (at the expense of introducing missing values into the merged dataset):"
   ]
  },
  {
   "cell_type": "code",
   "execution_count": 75,
   "metadata": {},
   "outputs": [
    {
     "data": {
      "text/plain": [
       "56034.362068965514"
      ]
     },
     "execution_count": 75,
     "metadata": {},
     "output_type": "execute_result"
    }
   ],
   "source": [
    "inc_counties.merge(large_pop, how='left')['Income'].mean()"
   ]
  },
  {
   "cell_type": "markdown",
   "metadata": {},
   "source": [
    "### Many-to-one joins\n",
    "\n",
    "A join performed on a join-key with duplicate entries results in either a 'many-to-one' or a 'many-to-many' join. Though these joins occur naturally, the resulting datasets might initially seem unintuitive.\n",
    "\n",
    "Many-to-one joins occur naturally when using 'lookup tables' to attach richer information about an *attribute* of a dataset (as opposed to an individual). For example, a table might include the purchase history of customers subscribing to a music-streaming service:\n",
    "\n",
    "|Customer|Plan Type|\n",
    "|---|---|\n",
    "|23523|Premium|\n",
    "|43453|Premium|\n",
    "|34523|Student|\n",
    "|...|...|\n",
    "|98345|Family |\n",
    "|13423|Premium|\n",
    "|34234|Student|\n",
    "\n",
    "Computing the total revenue generated from these purchases, one needs to merge this table with the three-row table of plan types:\n",
    "\n",
    "|Plan Type|Price|\n",
    "|---|---|\n",
    "|Student|\\$4.99|\n",
    "|Premium|\\$9.99|\n",
    "|Family|\\$14.99|\n",
    "\n",
    "A few observations on how this join differs from the simple joins covered before:\n",
    "* the join-key 'Plan Type' is an attribute of the table, not an identifier for the observations of the tables. \n",
    "* one expects the resulting joined table to contain the price next to each customer purchase; the each row in the small table is repeated many times over.\n",
    "\n",
    "The result of joining these two tables is:\n",
    "\n",
    "|Customer|Plan Type|Price|\n",
    "|---|---|---|\n",
    "|23523|Premium|\\$9.99|\n",
    "|43453|Premium|\\$9.99|\n",
    "|34523|Student|\\$4.99|\n",
    "|...|...|...|\n",
    "|98345|Family|\\$14.99|\n",
    "|13423|Premium|\\$9.99|\n",
    "|34234|Student|\\$4.99|\n"
   ]
  },
  {
   "cell_type": "markdown",
   "metadata": {},
   "source": [
    "**Example:** The dataset `cities` contains population and income information on 1442 California cities, along with the name of the county to which each city belongs. Using this dataset, one can roughly calculate which cities make significantly more or less than their neighbors: create a derived attribute using the ratio of the average household income of a given city to the average household income of the county in which it lies."
   ]
  },
  {
   "cell_type": "code",
   "execution_count": 92,
   "metadata": {},
   "outputs": [
    {
     "data": {
      "text/html": [
       "<div>\n",
       "<style scoped>\n",
       "    .dataframe tbody tr th:only-of-type {\n",
       "        vertical-align: middle;\n",
       "    }\n",
       "\n",
       "    .dataframe tbody tr th {\n",
       "        vertical-align: top;\n",
       "    }\n",
       "\n",
       "    .dataframe thead th {\n",
       "        text-align: right;\n",
       "    }\n",
       "</style>\n",
       "<table border=\"1\" class=\"dataframe\">\n",
       "  <thead>\n",
       "    <tr style=\"text-align: right;\">\n",
       "      <th></th>\n",
       "      <th>City</th>\n",
       "      <th>County</th>\n",
       "      <th>Population</th>\n",
       "      <th>Income</th>\n",
       "    </tr>\n",
       "  </thead>\n",
       "  <tbody>\n",
       "    <tr>\n",
       "      <th>0</th>\n",
       "      <td>Acalanes Ridge</td>\n",
       "      <td>Contra Costa</td>\n",
       "      <td>1226</td>\n",
       "      <td>160000.0</td>\n",
       "    </tr>\n",
       "    <tr>\n",
       "      <th>1</th>\n",
       "      <td>Acampo</td>\n",
       "      <td>San Joaquin</td>\n",
       "      <td>776</td>\n",
       "      <td>141250.0</td>\n",
       "    </tr>\n",
       "    <tr>\n",
       "      <th>2</th>\n",
       "      <td>Acton</td>\n",
       "      <td>Los Angeles</td>\n",
       "      <td>6956</td>\n",
       "      <td>92245.0</td>\n",
       "    </tr>\n",
       "    <tr>\n",
       "      <th>...</th>\n",
       "      <td>...</td>\n",
       "      <td>...</td>\n",
       "      <td>...</td>\n",
       "      <td>...</td>\n",
       "    </tr>\n",
       "    <tr>\n",
       "      <th>1439</th>\n",
       "      <td>Yucaipa</td>\n",
       "      <td>San Bernardino</td>\n",
       "      <td>52406</td>\n",
       "      <td>58506.0</td>\n",
       "    </tr>\n",
       "    <tr>\n",
       "      <th>1440</th>\n",
       "      <td>Yucca Valley</td>\n",
       "      <td>San Bernardino</td>\n",
       "      <td>21083</td>\n",
       "      <td>43086.0</td>\n",
       "    </tr>\n",
       "    <tr>\n",
       "      <th>1441</th>\n",
       "      <td>Zayante</td>\n",
       "      <td>Santa Cruz</td>\n",
       "      <td>853</td>\n",
       "      <td>81308.0</td>\n",
       "    </tr>\n",
       "  </tbody>\n",
       "</table>\n",
       "<p>1442 rows × 4 columns</p>\n",
       "</div>"
      ],
      "text/plain": [
       "                City          County  Population    Income\n",
       "0     Acalanes Ridge    Contra Costa        1226  160000.0\n",
       "1             Acampo     San Joaquin         776  141250.0\n",
       "2              Acton     Los Angeles        6956   92245.0\n",
       "...              ...             ...         ...       ...\n",
       "1439         Yucaipa  San Bernardino       52406   58506.0\n",
       "1440    Yucca Valley  San Bernardino       21083   43086.0\n",
       "1441         Zayante      Santa Cruz         853   81308.0\n",
       "\n",
       "[1442 rows x 4 columns]"
      ]
     },
     "execution_count": 92,
     "metadata": {},
     "output_type": "execute_result"
    }
   ],
   "source": [
    "cities"
   ]
  },
  {
   "cell_type": "markdown",
   "metadata": {},
   "source": [
    "Calculating this attribute requires joining the `county` dataset with the `city` dataset on the 'County' attribute. Since possibly many cities belong to the same county, this is a many-to-one join."
   ]
  },
  {
   "cell_type": "code",
   "execution_count": 94,
   "metadata": {},
   "outputs": [
    {
     "data": {
      "text/html": [
       "<div>\n",
       "<style scoped>\n",
       "    .dataframe tbody tr th:only-of-type {\n",
       "        vertical-align: middle;\n",
       "    }\n",
       "\n",
       "    .dataframe tbody tr th {\n",
       "        vertical-align: top;\n",
       "    }\n",
       "\n",
       "    .dataframe thead th {\n",
       "        text-align: right;\n",
       "    }\n",
       "</style>\n",
       "<table border=\"1\" class=\"dataframe\">\n",
       "  <thead>\n",
       "    <tr style=\"text-align: right;\">\n",
       "      <th></th>\n",
       "      <th>City</th>\n",
       "      <th>County</th>\n",
       "      <th>Population_city</th>\n",
       "      <th>Income_city</th>\n",
       "      <th>Population_county</th>\n",
       "      <th>Income_county</th>\n",
       "    </tr>\n",
       "  </thead>\n",
       "  <tbody>\n",
       "    <tr>\n",
       "      <th>0</th>\n",
       "      <td>Acalanes Ridge</td>\n",
       "      <td>Contra Costa</td>\n",
       "      <td>1226</td>\n",
       "      <td>160000.0</td>\n",
       "      <td>1081232</td>\n",
       "      <td>79799</td>\n",
       "    </tr>\n",
       "    <tr>\n",
       "      <th>1</th>\n",
       "      <td>Alamo</td>\n",
       "      <td>Contra Costa</td>\n",
       "      <td>15639</td>\n",
       "      <td>163151.0</td>\n",
       "      <td>1081232</td>\n",
       "      <td>79799</td>\n",
       "    </tr>\n",
       "    <tr>\n",
       "      <th>2</th>\n",
       "      <td>Alhambra Valley</td>\n",
       "      <td>Contra Costa</td>\n",
       "      <td>499</td>\n",
       "      <td>62000.0</td>\n",
       "      <td>1081232</td>\n",
       "      <td>79799</td>\n",
       "    </tr>\n",
       "    <tr>\n",
       "      <th>...</th>\n",
       "      <td>...</td>\n",
       "      <td>...</td>\n",
       "      <td>...</td>\n",
       "      <td>...</td>\n",
       "      <td>...</td>\n",
       "      <td>...</td>\n",
       "    </tr>\n",
       "    <tr>\n",
       "      <th>1435</th>\n",
       "      <td>San Juan Bautista</td>\n",
       "      <td>San Benito</td>\n",
       "      <td>2219</td>\n",
       "      <td>57717.0</td>\n",
       "      <td>56888</td>\n",
       "      <td>67874</td>\n",
       "    </tr>\n",
       "    <tr>\n",
       "      <th>1436</th>\n",
       "      <td>Tres Pinos</td>\n",
       "      <td>San Benito</td>\n",
       "      <td>457</td>\n",
       "      <td>75893.0</td>\n",
       "      <td>56888</td>\n",
       "      <td>67874</td>\n",
       "    </tr>\n",
       "    <tr>\n",
       "      <th>1437</th>\n",
       "      <td>San Francisco</td>\n",
       "      <td>San Francisco</td>\n",
       "      <td>829072</td>\n",
       "      <td>78378.0</td>\n",
       "      <td>829072</td>\n",
       "      <td>78378</td>\n",
       "    </tr>\n",
       "  </tbody>\n",
       "</table>\n",
       "<p>1438 rows × 6 columns</p>\n",
       "</div>"
      ],
      "text/plain": [
       "                   City         County  Population_city  Income_city  \\\n",
       "0        Acalanes Ridge   Contra Costa             1226     160000.0   \n",
       "1                 Alamo   Contra Costa            15639     163151.0   \n",
       "2       Alhambra Valley   Contra Costa              499      62000.0   \n",
       "...                 ...            ...              ...          ...   \n",
       "1435  San Juan Bautista     San Benito             2219      57717.0   \n",
       "1436         Tres Pinos     San Benito              457      75893.0   \n",
       "1437      San Francisco  San Francisco           829072      78378.0   \n",
       "\n",
       "      Population_county  Income_county  \n",
       "0               1081232          79799  \n",
       "1               1081232          79799  \n",
       "2               1081232          79799  \n",
       "...                 ...            ...  \n",
       "1435              56888          67874  \n",
       "1436              56888          67874  \n",
       "1437             829072          78378  \n",
       "\n",
       "[1438 rows x 6 columns]"
      ]
     },
     "execution_count": 94,
     "metadata": {},
     "output_type": "execute_result"
    }
   ],
   "source": [
    "cities_with_county_info = cities.merge(counties, on='County', suffixes=['_city', '_county'])\n",
    "cities_with_county_info"
   ]
  },
  {
   "cell_type": "markdown",
   "metadata": {},
   "source": [
    "*Remark:* What happens if the join key were not specified in the merge? What condition must be met for a city to belong to the merged table?\n",
    "\n",
    "Once merged, the 'income ratio' attribute is simply the ratio of two columns. The cities with the highest income ratios are small gated communities within Los Angeles County:"
   ]
  },
  {
   "cell_type": "code",
   "execution_count": 100,
   "metadata": {},
   "outputs": [
    {
     "data": {
      "text/html": [
       "<div>\n",
       "<style scoped>\n",
       "    .dataframe tbody tr th:only-of-type {\n",
       "        vertical-align: middle;\n",
       "    }\n",
       "\n",
       "    .dataframe tbody tr th {\n",
       "        vertical-align: top;\n",
       "    }\n",
       "\n",
       "    .dataframe thead th {\n",
       "        text-align: right;\n",
       "    }\n",
       "</style>\n",
       "<table border=\"1\" class=\"dataframe\">\n",
       "  <thead>\n",
       "    <tr style=\"text-align: right;\">\n",
       "      <th></th>\n",
       "      <th>City</th>\n",
       "      <th>County</th>\n",
       "      <th>Population_city</th>\n",
       "      <th>Income_city</th>\n",
       "      <th>Population_county</th>\n",
       "      <th>Income_county</th>\n",
       "      <th>income_ratio</th>\n",
       "    </tr>\n",
       "  </thead>\n",
       "  <tbody>\n",
       "    <tr>\n",
       "      <th>134</th>\n",
       "      <td>Hidden Hills</td>\n",
       "      <td>Los Angeles</td>\n",
       "      <td>1749</td>\n",
       "      <td>245694.0</td>\n",
       "      <td>9974203</td>\n",
       "      <td>55870</td>\n",
       "      <td>4.397602</td>\n",
       "    </tr>\n",
       "    <tr>\n",
       "      <th>177</th>\n",
       "      <td>Rolling Hills</td>\n",
       "      <td>Los Angeles</td>\n",
       "      <td>1689</td>\n",
       "      <td>218583.0</td>\n",
       "      <td>9974203</td>\n",
       "      <td>55870</td>\n",
       "      <td>3.912350</td>\n",
       "    </tr>\n",
       "    <tr>\n",
       "      <th>169</th>\n",
       "      <td>Palos Verdes Estates</td>\n",
       "      <td>Los Angeles</td>\n",
       "      <td>13568</td>\n",
       "      <td>171328.0</td>\n",
       "      <td>9974203</td>\n",
       "      <td>55870</td>\n",
       "      <td>3.066547</td>\n",
       "    </tr>\n",
       "    <tr>\n",
       "      <th>...</th>\n",
       "      <td>...</td>\n",
       "      <td>...</td>\n",
       "      <td>...</td>\n",
       "      <td>...</td>\n",
       "      <td>...</td>\n",
       "      <td>...</td>\n",
       "      <td>...</td>\n",
       "    </tr>\n",
       "    <tr>\n",
       "      <th>595</th>\n",
       "      <td>Boulevard</td>\n",
       "      <td>San Diego</td>\n",
       "      <td>434</td>\n",
       "      <td>12421.0</td>\n",
       "      <td>3183143</td>\n",
       "      <td>63996</td>\n",
       "      <td>0.194090</td>\n",
       "    </tr>\n",
       "    <tr>\n",
       "      <th>1301</th>\n",
       "      <td>Valley Ford</td>\n",
       "      <td>Sonoma</td>\n",
       "      <td>167</td>\n",
       "      <td>9312.0</td>\n",
       "      <td>491790</td>\n",
       "      <td>63799</td>\n",
       "      <td>0.145958</td>\n",
       "    </tr>\n",
       "    <tr>\n",
       "      <th>526</th>\n",
       "      <td>Verdi</td>\n",
       "      <td>Sierra</td>\n",
       "      <td>92</td>\n",
       "      <td>4853.0</td>\n",
       "      <td>3019</td>\n",
       "      <td>43107</td>\n",
       "      <td>0.112580</td>\n",
       "    </tr>\n",
       "  </tbody>\n",
       "</table>\n",
       "<p>1438 rows × 7 columns</p>\n",
       "</div>"
      ],
      "text/plain": [
       "                      City       County  Population_city  Income_city  \\\n",
       "134           Hidden Hills  Los Angeles             1749     245694.0   \n",
       "177          Rolling Hills  Los Angeles             1689     218583.0   \n",
       "169   Palos Verdes Estates  Los Angeles            13568     171328.0   \n",
       "...                    ...          ...              ...          ...   \n",
       "595              Boulevard    San Diego              434      12421.0   \n",
       "1301           Valley Ford       Sonoma              167       9312.0   \n",
       "526                  Verdi       Sierra               92       4853.0   \n",
       "\n",
       "      Population_county  Income_county  income_ratio  \n",
       "134             9974203          55870      4.397602  \n",
       "177             9974203          55870      3.912350  \n",
       "169             9974203          55870      3.066547  \n",
       "...                 ...            ...           ...  \n",
       "595             3183143          63996      0.194090  \n",
       "1301             491790          63799      0.145958  \n",
       "526                3019          43107      0.112580  \n",
       "\n",
       "[1438 rows x 7 columns]"
      ]
     },
     "execution_count": 100,
     "metadata": {},
     "output_type": "execute_result"
    }
   ],
   "source": [
    "(\n",
    "    cities_with_county_info.assign(\n",
    "        income_ratio=cities_with_county_info['Income_city'] / cities_with_county_info['Income_county']\n",
    "    ).sort_values(by='income_ratio', ascending=False)\n",
    ")"
   ]
  },
  {
   "cell_type": "markdown",
   "metadata": {},
   "source": [
    "### Many-to-many joins"
   ]
  },
  {
   "cell_type": "markdown",
   "metadata": {},
   "source": [
    "Recall that, assuming a one-to-one correspondence between the individuals in the two tables, joining the columns of the two tables requires two steps:\n",
    "1. sorting each table by their respective join-keys (i.e. lining them up),\n",
    "1. iterating through the (common, corresponding) rows of each table, combining the attributes of each row into a new table.\n",
    "\n",
    "Now, consider if one, or both, of the tables contains duplicate values in the column specified as the join-key. How does step 2 change? Sketch out an algorithm. How many rows does the resulting joined table have?"
   ]
  },
  {
   "cell_type": "markdown",
   "metadata": {},
   "source": [
    "### Broadcast join\n",
    "\n",
    "When one of the tables being joined is small, it's faster to use a **broadcast join**. Broadcast joins use the following procedure:\n",
    "1. load the small table into a dictionary $D$, keyed by the join-key.\n",
    "1. iterate through the large table; for each row $r$ in the table:\n",
    "    1. access the join key $k$ for that row,\n",
    "    1. get the value $v = D[k]$ corresponding to this key,\n",
    "    1. append the value $v$ from the dictionary to the row $r$.\n",
    "    \n",
    "This procedure is fast:\n",
    "* it doesn't require sorting *either* table, \n",
    "* dictionary lookups only require constant time,\n",
    "\n",
    "So this sorting algorithm runs in a time proportional to the sum of the lengths of the two tables."
   ]
  },
  {
   "cell_type": "markdown",
   "metadata": {},
   "source": [
    "**Example:** Given the two tables of streaming music purchases (`purchases`), and the prices of each plan type (`prices`), one can use a broadcast join to combine the two tables on 'Plan Type':"
   ]
  },
  {
   "cell_type": "code",
   "execution_count": null,
   "metadata": {},
   "outputs": [],
   "source": [
    "D = prices.set_index('Plan Type').to_dict()\n",
    "purchases['Price'] = purchases.apply(lambda x:D.get(x['Plan Type']))"
   ]
  },
  {
   "cell_type": "markdown",
   "metadata": {},
   "source": [
    "### Approximate join"
   ]
  },
  {
   "cell_type": "code",
   "execution_count": null,
   "metadata": {},
   "outputs": [],
   "source": []
  }
 ],
 "metadata": {
  "kernelspec": {
   "display_name": "Python 3 (ipykernel)",
   "language": "python",
   "name": "python3"
  },
  "language_info": {
   "codemirror_mode": {
    "name": "ipython",
    "version": 3
   },
   "file_extension": ".py",
   "mimetype": "text/x-python",
   "name": "python",
   "nbconvert_exporter": "python",
   "pygments_lexer": "ipython3",
   "version": "3.9.7"
  }
 },
 "nbformat": 4,
 "nbformat_minor": 2
}
